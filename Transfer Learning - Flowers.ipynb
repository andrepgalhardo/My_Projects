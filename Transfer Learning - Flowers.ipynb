{
 "cells": [
  {
   "cell_type": "code",
   "outputs": [],
   "source": [
    "import tensorflow as tf\n",
    "from matplotlib import pyplot as plt"
   ],
   "metadata": {
    "collapsed": false,
    "ExecuteTime": {
     "end_time": "2024-02-29T21:46:28.948057Z",
     "start_time": "2024-02-29T21:46:28.944993Z"
    }
   },
   "id": "7bad9ebd0e7e3402",
   "execution_count": 4
  },
  {
   "cell_type": "code",
   "execution_count": 1,
   "id": "initial_id",
   "metadata": {
    "collapsed": true,
    "ExecuteTime": {
     "end_time": "2024-02-29T21:45:41.732094Z",
     "start_time": "2024-02-29T21:44:47.295396Z"
    }
   },
   "outputs": [
    {
     "name": "stderr",
     "output_type": "stream",
     "text": [
      "2024-02-29 21:44:56.680087: W tensorflow/core/platform/cloud/google_auth_provider.cc:184] All attempts to get a Google authentication bearer token failed, returning an empty token. Retrieving token from files failed with \"NOT_FOUND: Could not locate the credentials file.\". Retrieving token from GCE failed with \"FAILED_PRECONDITION: Error executing an HTTP request: libcurl code 6 meaning 'Couldn't resolve host name', error details: Could not resolve host: metadata\".\n"
     ]
    },
    {
     "name": "stdout",
     "output_type": "stream",
     "text": [
      "Downloading and preparing dataset 218.21 MiB (download: 218.21 MiB, generated: 221.83 MiB, total: 440.05 MiB) to /root/tensorflow_datasets/tf_flowers/3.0.1...\n"
     ]
    },
    {
     "data": {
      "text/plain": "Dl Completed...:   0%|          | 0/5 [00:00<?, ? file/s]",
      "application/vnd.jupyter.widget-view+json": {
       "version_major": 2,
       "version_minor": 0,
       "model_id": "cec19df2d71a446f8bd40047b5eebdde"
      }
     },
     "metadata": {},
     "output_type": "display_data"
    },
    {
     "name": "stdout",
     "output_type": "stream",
     "text": [
      "Dataset tf_flowers downloaded and prepared to /root/tensorflow_datasets/tf_flowers/3.0.1. Subsequent calls will reuse this data.\n"
     ]
    }
   ],
   "source": [
    "import tensorflow_datasets as tfds\n",
    "\n",
    "dataset, info = tfds.load(\"tf_flowers\", as_supervised=True, with_info=True)\n",
    "dataset_size = info.splits[\"train\"].num_examples  # 3670\n",
    "class_names = info.features[\"label\"].names  # [\"dandelion\", \"daisy\", ...]\n",
    "n_classes = info.features[\"label\"].num_classes  # 5"
   ]
  },
  {
   "cell_type": "code",
   "outputs": [],
   "source": [
    "test_set_raw, valid_set_raw, train_set_raw = tfds.load(\n",
    "    \"tf_flowers\",\n",
    "    split=[\"train[:10%]\", \"train[10%:25%]\", \"train[25%:]\"],\n",
    "    as_supervised=True)"
   ],
   "metadata": {
    "collapsed": false,
    "ExecuteTime": {
     "end_time": "2024-02-29T21:45:46.340713Z",
     "start_time": "2024-02-29T21:45:46.246098Z"
    }
   },
   "id": "a68f435240b3650c",
   "execution_count": 2
  },
  {
   "cell_type": "code",
   "outputs": [],
   "source": [
    "batch_size = 32\n",
    "preprocess = tf.keras.Sequential([\n",
    "    tf.keras.layers.Resizing(height=224, width=224, crop_to_aspect_ratio=True),\n",
    "    tf.keras.layers.Lambda(tf.keras.applications.xception.preprocess_input)\n",
    "])\n",
    "train_set = train_set_raw.map(lambda X, y: (preprocess(X), y))\n",
    "train_set = train_set.shuffle(1000, seed=42).batch(batch_size).prefetch(1)\n",
    "valid_set = valid_set_raw.map(lambda X, y: (preprocess(X), y)).batch(batch_size)\n",
    "test_set = test_set_raw.map(lambda X, y: (preprocess(X), y)).batch(batch_size)"
   ],
   "metadata": {
    "collapsed": false,
    "ExecuteTime": {
     "end_time": "2024-02-29T21:46:35.039719Z",
     "start_time": "2024-02-29T21:46:34.774414Z"
    }
   },
   "id": "6436319800f0cc64",
   "execution_count": 5
  },
  {
   "cell_type": "code",
   "outputs": [],
   "source": [
    "import keras"
   ],
   "metadata": {
    "collapsed": false,
    "ExecuteTime": {
     "end_time": "2024-02-29T21:50:17.733326Z",
     "start_time": "2024-02-29T21:50:17.730340Z"
    }
   },
   "id": "f36c3f42e8e8259c",
   "execution_count": 6
  },
  {
   "cell_type": "code",
   "outputs": [],
   "source": [
    "data_augmentation = tf.keras.Sequential([\n",
    "    keras.layers.RandomFlip(mode=\"horizontal\", seed=42),\n",
    "    keras.layers.RandomRotation(factor=0.2, seed=42),\n",
    "    keras.layers.RandomContrast(factor=0.2, seed=42)\n",
    "])"
   ],
   "metadata": {
    "collapsed": false,
    "ExecuteTime": {
     "end_time": "2024-02-29T21:57:04.669610Z",
     "start_time": "2024-02-29T21:57:04.642538Z"
    }
   },
   "id": "da81ce2edd07f6e0",
   "execution_count": 24
  },
  {
   "cell_type": "code",
   "outputs": [],
   "source": [
    "base_model = tf.keras.applications.xception.Xception(weights=\"imagenet\",\n",
    "                                                     include_top=False)\n",
    "avg = tf.keras.layers.GlobalAveragePooling2D()(base_model.output)\n",
    "output = tf.keras.layers.Dense(n_classes, activation=\"softmax\")(avg)\n",
    "model = tf.keras.Model(inputs=base_model.input, outputs=output)"
   ],
   "metadata": {
    "collapsed": false,
    "ExecuteTime": {
     "end_time": "2024-02-29T21:57:06.691326Z",
     "start_time": "2024-02-29T21:57:05.870839Z"
    }
   },
   "id": "426e680aecaabf85",
   "execution_count": 25
  },
  {
   "cell_type": "code",
   "outputs": [],
   "source": [
    "for layer in base_model.layers:\n",
    "    layer.trainable = False"
   ],
   "metadata": {
    "collapsed": false,
    "ExecuteTime": {
     "end_time": "2024-02-29T21:57:07.351653Z",
     "start_time": "2024-02-29T21:57:07.346324Z"
    }
   },
   "id": "5ce07680777db3ba",
   "execution_count": 26
  },
  {
   "cell_type": "code",
   "outputs": [
    {
     "name": "stdout",
     "output_type": "stream",
     "text": [
      "Epoch 1/3\n",
      "86/86 [==============================] - 5s 43ms/step - loss: 0.9186 - accuracy: 0.7882 - val_loss: 0.9681 - val_accuracy: 0.8040\n",
      "Epoch 2/3\n",
      "86/86 [==============================] - 3s 37ms/step - loss: 0.3574 - accuracy: 0.9132 - val_loss: 0.5962 - val_accuracy: 0.8621\n",
      "Epoch 3/3\n",
      "86/86 [==============================] - 3s 37ms/step - loss: 0.1597 - accuracy: 0.9480 - val_loss: 0.5401 - val_accuracy: 0.8730\n"
     ]
    }
   ],
   "source": [
    "optimizer = tf.keras.optimizers.SGD(learning_rate=0.1, momentum=0.9)\n",
    "model.compile(loss=\"sparse_categorical_crossentropy\", optimizer=optimizer,\n",
    "              metrics=[\"accuracy\"])\n",
    "history = model.fit(train_set, validation_data=valid_set, epochs=3)"
   ],
   "metadata": {
    "collapsed": false,
    "ExecuteTime": {
     "end_time": "2024-02-29T21:57:20.252556Z",
     "start_time": "2024-02-29T21:57:08.031743Z"
    }
   },
   "id": "d897b081a9cb6552",
   "execution_count": 27
  },
  {
   "cell_type": "code",
   "outputs": [],
   "source": [
    "for layer in base_model.layers[56:]:\n",
    "    layer.trainable = True"
   ],
   "metadata": {
    "collapsed": false,
    "ExecuteTime": {
     "end_time": "2024-02-29T21:57:51.293468Z",
     "start_time": "2024-02-29T21:57:51.289107Z"
    }
   },
   "id": "3fe2398e04fc33fe",
   "execution_count": 28
  },
  {
   "cell_type": "code",
   "outputs": [
    {
     "name": "stdout",
     "output_type": "stream",
     "text": [
      "Epoch 1/10\n",
      "86/86 [==============================] - 9s 68ms/step - loss: 0.2917 - accuracy: 0.9073 - val_loss: 0.4454 - val_accuracy: 0.8857\n",
      "Epoch 2/10\n",
      "86/86 [==============================] - 6s 65ms/step - loss: 0.0649 - accuracy: 0.9800 - val_loss: 0.3095 - val_accuracy: 0.9020\n",
      "Epoch 3/10\n",
      "86/86 [==============================] - 6s 63ms/step - loss: 0.0188 - accuracy: 0.9964 - val_loss: 0.2800 - val_accuracy: 0.9183\n",
      "Epoch 4/10\n",
      "86/86 [==============================] - 6s 62ms/step - loss: 0.0103 - accuracy: 0.9971 - val_loss: 0.2696 - val_accuracy: 0.9220\n",
      "Epoch 5/10\n",
      "86/86 [==============================] - 6s 62ms/step - loss: 0.0083 - accuracy: 0.9975 - val_loss: 0.2946 - val_accuracy: 0.9111\n",
      "Epoch 6/10\n",
      "86/86 [==============================] - 6s 62ms/step - loss: 0.0062 - accuracy: 0.9978 - val_loss: 0.2865 - val_accuracy: 0.9165\n",
      "Epoch 7/10\n",
      "86/86 [==============================] - 6s 62ms/step - loss: 0.0087 - accuracy: 0.9982 - val_loss: 0.2696 - val_accuracy: 0.9201\n",
      "Epoch 8/10\n",
      "86/86 [==============================] - 6s 63ms/step - loss: 0.0064 - accuracy: 0.9978 - val_loss: 0.2900 - val_accuracy: 0.9129\n",
      "Epoch 9/10\n",
      "86/86 [==============================] - 6s 63ms/step - loss: 0.0036 - accuracy: 0.9982 - val_loss: 0.2696 - val_accuracy: 0.9310\n",
      "Epoch 10/10\n",
      "86/86 [==============================] - 6s 64ms/step - loss: 0.0018 - accuracy: 0.9993 - val_loss: 0.2826 - val_accuracy: 0.9238\n"
     ]
    }
   ],
   "source": [
    "optimizer = tf.keras.optimizers.SGD(learning_rate=0.01, momentum=0.9)\n",
    "model.compile(loss=\"sparse_categorical_crossentropy\", optimizer=optimizer,\n",
    "              metrics=[\"accuracy\"])\n",
    "history = model.fit(train_set, validation_data=valid_set, epochs=10)"
   ],
   "metadata": {
    "collapsed": false,
    "ExecuteTime": {
     "end_time": "2024-02-29T21:59:09.548428Z",
     "start_time": "2024-02-29T21:58:05.247600Z"
    }
   },
   "id": "792da8fc18f3a9ff",
   "execution_count": 29
  },
  {
   "cell_type": "code",
   "outputs": [
    {
     "data": {
      "text/plain": "Text(0.5, 1.0, 'model accuracy')"
     },
     "execution_count": 31,
     "metadata": {},
     "output_type": "execute_result"
    },
    {
     "data": {
      "text/plain": "<Figure size 640x480 with 1 Axes>",
      "image/png": "[encoded data removed]"
     },
     "metadata": {},
     "output_type": "display_data"
    }
   ],
   "source": [
    "import matplotlib.pyplot as plt\n",
    "plt.plot(history.history[\"accuracy\"])\n",
    "plt.plot(history.history[\"loss\"])\n",
    "plt.plot(history.history[\"val_accuracy\"])\n",
    "plt.plot(history.history[\"val_loss\"])\n",
    "plt.title(\"model accuracy\")"
   ],
   "metadata": {
    "collapsed": false,
    "ExecuteTime": {
     "end_time": "2024-02-29T22:00:26.522484Z",
     "start_time": "2024-02-29T22:00:24.926190Z"
    }
   },
   "id": "b7ddfe2db2056b2d",
   "execution_count": 31
  },
  {
   "cell_type": "code",
   "outputs": [],
   "source": [],
   "metadata": {
    "collapsed": false
   },
   "id": "3f7928005070066b"
  }
 ],
 "metadata": {
  "kernelspec": {
   "display_name": "Python 3",
   "language": "python",
   "name": "python3"
  },
  "language_info": {
   "codemirror_mode": {
    "name": "ipython",
    "version": 2
   },
   "file_extension": ".py",
   "mimetype": "text/x-python",
   "name": "python",
   "nbconvert_exporter": "python",
   "pygments_lexer": "ipython2",
   "version": "2.7.6"
  }
 },
 "nbformat": 4,
 "nbformat_minor": 5
}
