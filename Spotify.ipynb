{
 "cells": [
  {
   "cell_type": "code",
   "execution_count": 1,
   "id": "initial_id",
   "metadata": {
    "ExecuteTime": {
     "end_time": "2024-03-04T02:34:27.204089Z",
     "start_time": "2024-03-04T02:34:23.561993Z"
    },
    "collapsed": true,
    "jupyter": {
     "outputs_hidden": true
    }
   },
   "outputs": [
    {
     "name": "stderr",
     "output_type": "stream",
     "text": [
      "2024-03-03 23:34:24.424602: E external/local_xla/xla/stream_executor/cuda/cuda_dnn.cc:9261] Unable to register cuDNN factory: Attempting to register factory for plugin cuDNN when one has already been registered\n",
      "2024-03-03 23:34:24.424664: E external/local_xla/xla/stream_executor/cuda/cuda_fft.cc:607] Unable to register cuFFT factory: Attempting to register factory for plugin cuFFT when one has already been registered\n",
      "2024-03-03 23:34:24.468137: E external/local_xla/xla/stream_executor/cuda/cuda_blas.cc:1515] Unable to register cuBLAS factory: Attempting to register factory for plugin cuBLAS when one has already been registered\n",
      "2024-03-03 23:34:24.556470: I tensorflow/core/platform/cpu_feature_guard.cc:182] This TensorFlow binary is optimized to use available CPU instructions in performance-critical operations.\n",
      "To enable the following instructions: AVX2 FMA, in other operations, rebuild TensorFlow with the appropriate compiler flags.\n",
      "2024-03-03 23:34:25.839088: W tensorflow/compiler/tf2tensorrt/utils/py_utils.cc:38] TF-TRT Warning: Could not find TensorRT\n"
     ]
    }
   ],
   "source": [
    "import tensorflow as tf\n",
    "from tensorflow import keras\n",
    "from tensorflow.keras import layers\n",
    "import pandas as pd\n",
    "import numpy as np\n",
    "\n",
    "import matplotlib.pyplot as plt\n",
    "import seaborn as sns"
   ]
  },
  {
   "cell_type": "code",
   "execution_count": 2,
   "id": "a38c96bf5bdd9d2b",
   "metadata": {
    "ExecuteTime": {
     "end_time": "2024-03-04T02:34:40.330449Z",
     "start_time": "2024-03-04T02:34:39.374956Z"
    },
    "collapsed": false,
    "jupyter": {
     "outputs_hidden": false
    }
   },
   "outputs": [
    {
     "data": {
      "text/html": [
       "<div>\n",
       "<style scoped>\n",
       "    .dataframe tbody tr th:only-of-type {\n",
       "        vertical-align: middle;\n",
       "    }\n",
       "\n",
       "    .dataframe tbody tr th {\n",
       "        vertical-align: top;\n",
       "    }\n",
       "\n",
       "    .dataframe thead th {\n",
       "        text-align: right;\n",
       "    }\n",
       "</style>\n",
       "<table border=\"1\" class=\"dataframe\">\n",
       "  <thead>\n",
       "    <tr style=\"text-align: right;\">\n",
       "      <th></th>\n",
       "      <th>id</th>\n",
       "      <th>artists</th>\n",
       "      <th>name</th>\n",
       "      <th>year</th>\n",
       "      <th>acousticness</th>\n",
       "      <th>danceability</th>\n",
       "      <th>duration_ms</th>\n",
       "      <th>energy</th>\n",
       "      <th>explicit</th>\n",
       "      <th>instrumentalness</th>\n",
       "      <th>key</th>\n",
       "      <th>liveness</th>\n",
       "      <th>loudness</th>\n",
       "      <th>mode</th>\n",
       "      <th>release_date</th>\n",
       "      <th>speechiness</th>\n",
       "      <th>tempo</th>\n",
       "      <th>valence</th>\n",
       "      <th>popularity</th>\n",
       "    </tr>\n",
       "  </thead>\n",
       "  <tbody>\n",
       "    <tr>\n",
       "      <th>0</th>\n",
       "      <td>7pQSmQ0l7QdBeL9X6CEMbH</td>\n",
       "      <td>['Erroll Garner']</td>\n",
       "      <td>I'll Remember April - Original Edited Concert ...</td>\n",
       "      <td>1955</td>\n",
       "      <td>0.92300</td>\n",
       "      <td>0.438</td>\n",
       "      <td>257693</td>\n",
       "      <td>0.602</td>\n",
       "      <td>0</td>\n",
       "      <td>0.658000</td>\n",
       "      <td>8</td>\n",
       "      <td>0.9500</td>\n",
       "      <td>-14.565</td>\n",
       "      <td>1</td>\n",
       "      <td>1955</td>\n",
       "      <td>0.0408</td>\n",
       "      <td>122.289</td>\n",
       "      <td>0.546</td>\n",
       "      <td>24</td>\n",
       "    </tr>\n",
       "    <tr>\n",
       "      <th>1</th>\n",
       "      <td>2g8MTBFRUSFKbY5RQiSSEE</td>\n",
       "      <td>['Maison &amp; Dragen']</td>\n",
       "      <td>Chinese New Year - Radio Edit</td>\n",
       "      <td>2014</td>\n",
       "      <td>0.00019</td>\n",
       "      <td>0.477</td>\n",
       "      <td>193968</td>\n",
       "      <td>0.834</td>\n",
       "      <td>0</td>\n",
       "      <td>0.978000</td>\n",
       "      <td>4</td>\n",
       "      <td>0.3960</td>\n",
       "      <td>-6.534</td>\n",
       "      <td>0</td>\n",
       "      <td>2014-05-02</td>\n",
       "      <td>0.0396</td>\n",
       "      <td>130.007</td>\n",
       "      <td>0.516</td>\n",
       "      <td>0</td>\n",
       "    </tr>\n",
       "    <tr>\n",
       "      <th>2</th>\n",
       "      <td>2LcJoQ5SDUZrC2qUjWMEdF</td>\n",
       "      <td>['Yoel Lerner', 'Mazi Cohen']</td>\n",
       "      <td>השפן הקטן</td>\n",
       "      <td>1981</td>\n",
       "      <td>0.90000</td>\n",
       "      <td>0.617</td>\n",
       "      <td>56827</td>\n",
       "      <td>0.272</td>\n",
       "      <td>0</td>\n",
       "      <td>0.000000</td>\n",
       "      <td>7</td>\n",
       "      <td>0.0879</td>\n",
       "      <td>-16.818</td>\n",
       "      <td>1</td>\n",
       "      <td>1981-04-01</td>\n",
       "      <td>0.0577</td>\n",
       "      <td>83.244</td>\n",
       "      <td>0.807</td>\n",
       "      <td>38</td>\n",
       "    </tr>\n",
       "    <tr>\n",
       "      <th>3</th>\n",
       "      <td>6RzHyUtRNARYyn2AIuoLnY</td>\n",
       "      <td>['Barbra Streisand']</td>\n",
       "      <td>Run Wild</td>\n",
       "      <td>1980</td>\n",
       "      <td>0.29400</td>\n",
       "      <td>0.377</td>\n",
       "      <td>247467</td>\n",
       "      <td>0.269</td>\n",
       "      <td>0</td>\n",
       "      <td>0.000478</td>\n",
       "      <td>4</td>\n",
       "      <td>0.1440</td>\n",
       "      <td>-16.766</td>\n",
       "      <td>1</td>\n",
       "      <td>1980-09-23</td>\n",
       "      <td>0.0268</td>\n",
       "      <td>82.302</td>\n",
       "      <td>0.196</td>\n",
       "      <td>40</td>\n",
       "    </tr>\n",
       "    <tr>\n",
       "      <th>4</th>\n",
       "      <td>6Kd0I5es8911FZpYhFS053</td>\n",
       "      <td>['Willie Nelson']</td>\n",
       "      <td>Till I Gain Control Again - Live</td>\n",
       "      <td>1975</td>\n",
       "      <td>0.49400</td>\n",
       "      <td>0.501</td>\n",
       "      <td>351560</td>\n",
       "      <td>0.218</td>\n",
       "      <td>0</td>\n",
       "      <td>0.008110</td>\n",
       "      <td>0</td>\n",
       "      <td>0.2970</td>\n",
       "      <td>-13.045</td>\n",
       "      <td>1</td>\n",
       "      <td>1975</td>\n",
       "      <td>0.0283</td>\n",
       "      <td>77.854</td>\n",
       "      <td>0.239</td>\n",
       "      <td>20</td>\n",
       "    </tr>\n",
       "  </tbody>\n",
       "</table>\n",
       "</div>"
      ],
      "text/plain": [
       "                       id                        artists  \\\n",
       "0  7pQSmQ0l7QdBeL9X6CEMbH              ['Erroll Garner']   \n",
       "1  2g8MTBFRUSFKbY5RQiSSEE            ['Maison & Dragen']   \n",
       "2  2LcJoQ5SDUZrC2qUjWMEdF  ['Yoel Lerner', 'Mazi Cohen']   \n",
       "3  6RzHyUtRNARYyn2AIuoLnY           ['Barbra Streisand']   \n",
       "4  6Kd0I5es8911FZpYhFS053              ['Willie Nelson']   \n",
       "\n",
       "                                                name  year  acousticness  \\\n",
       "0  I'll Remember April - Original Edited Concert ...  1955       0.92300   \n",
       "1                      Chinese New Year - Radio Edit  2014       0.00019   \n",
       "2                                          השפן הקטן  1981       0.90000   \n",
       "3                                           Run Wild  1980       0.29400   \n",
       "4                   Till I Gain Control Again - Live  1975       0.49400   \n",
       "\n",
       "   danceability  duration_ms  energy  explicit  instrumentalness  key  \\\n",
       "0         0.438       257693   0.602         0          0.658000    8   \n",
       "1         0.477       193968   0.834         0          0.978000    4   \n",
       "2         0.617        56827   0.272         0          0.000000    7   \n",
       "3         0.377       247467   0.269         0          0.000478    4   \n",
       "4         0.501       351560   0.218         0          0.008110    0   \n",
       "\n",
       "   liveness  loudness  mode release_date  speechiness    tempo  valence  \\\n",
       "0    0.9500   -14.565     1         1955       0.0408  122.289    0.546   \n",
       "1    0.3960    -6.534     0   2014-05-02       0.0396  130.007    0.516   \n",
       "2    0.0879   -16.818     1   1981-04-01       0.0577   83.244    0.807   \n",
       "3    0.1440   -16.766     1   1980-09-23       0.0268   82.302    0.196   \n",
       "4    0.2970   -13.045     1         1975       0.0283   77.854    0.239   \n",
       "\n",
       "   popularity  \n",
       "0          24  \n",
       "1           0  \n",
       "2          38  \n",
       "3          40  \n",
       "4          20  "
      ]
     },
     "execution_count": 2,
     "metadata": {},
     "output_type": "execute_result"
    }
   ],
   "source": [
    "train = pd.read_csv('train.csv')\n",
    "test = pd.read_csv('test.csv')\n",
    "train.head()"
   ]
  },
  {
   "cell_type": "code",
   "execution_count": 3,
   "id": "db44a2ef946bbdbb",
   "metadata": {
    "ExecuteTime": {
     "end_time": "2024-03-04T02:34:41.622465Z",
     "start_time": "2024-03-04T02:34:41.613008Z"
    },
    "collapsed": false,
    "jupyter": {
     "outputs_hidden": false
    }
   },
   "outputs": [],
   "source": [
    "train.drop('id', axis=1, inplace=True)"
   ]
  },
  {
   "cell_type": "code",
   "execution_count": 4,
   "id": "536cd5e7a3cb0847",
   "metadata": {
    "ExecuteTime": {
     "end_time": "2024-03-04T02:34:42.708367Z",
     "start_time": "2024-03-04T02:34:42.695793Z"
    },
    "collapsed": false,
    "jupyter": {
     "outputs_hidden": false
    }
   },
   "outputs": [],
   "source": [
    "train.drop('release_date', axis=1, inplace=True)"
   ]
  },
  {
   "cell_type": "code",
   "execution_count": 5,
   "id": "2d36b6d2f6c1b77f",
   "metadata": {
    "ExecuteTime": {
     "end_time": "2024-03-04T02:34:43.337941Z",
     "start_time": "2024-03-04T02:34:43.332369Z"
    },
    "collapsed": false,
    "jupyter": {
     "outputs_hidden": false
    }
   },
   "outputs": [
    {
     "data": {
      "text/plain": [
       "(129172, 17)"
      ]
     },
     "execution_count": 5,
     "metadata": {},
     "output_type": "execute_result"
    }
   ],
   "source": [
    "train.shape"
   ]
  },
  {
   "cell_type": "code",
   "execution_count": 6,
   "id": "e9ded592782a87",
   "metadata": {
    "ExecuteTime": {
     "end_time": "2024-03-04T02:34:44.125744Z",
     "start_time": "2024-03-04T02:34:44.121064Z"
    },
    "collapsed": false,
    "jupyter": {
     "outputs_hidden": false
    }
   },
   "outputs": [],
   "source": [
    "train['popularity'] = train['popularity'].astype(np.float32)"
   ]
  },
  {
   "cell_type": "code",
   "execution_count": 7,
   "id": "d4ced7ba84253b43",
   "metadata": {
    "ExecuteTime": {
     "end_time": "2024-03-04T02:34:44.894589Z",
     "start_time": "2024-03-04T02:34:44.890209Z"
    },
    "collapsed": false,
    "jupyter": {
     "outputs_hidden": false
    }
   },
   "outputs": [
    {
     "data": {
      "text/plain": [
       "2195924"
      ]
     },
     "execution_count": 7,
     "metadata": {},
     "output_type": "execute_result"
    }
   ],
   "source": [
    "train.size"
   ]
  },
  {
   "cell_type": "code",
   "execution_count": 8,
   "id": "975e2c5177befad3",
   "metadata": {
    "ExecuteTime": {
     "end_time": "2024-03-04T02:34:45.725954Z",
     "start_time": "2024-03-04T02:34:45.676565Z"
    },
    "collapsed": false,
    "jupyter": {
     "outputs_hidden": false
    }
   },
   "outputs": [
    {
     "name": "stdout",
     "output_type": "stream",
     "text": [
      "90420 training examples\n",
      "19376 validation examples\n",
      "19376 test examples\n"
     ]
    },
    {
     "name": "stderr",
     "output_type": "stream",
     "text": [
      "/home/andre/Documents/Projects/MLLab/lib/python3.11/site-packages/numpy/core/fromnumeric.py:59: FutureWarning: 'DataFrame.swapaxes' is deprecated and will be removed in a future version. Please use 'DataFrame.transpose' instead.\n",
      "  return bound(*args, **kwds)\n"
     ]
    }
   ],
   "source": [
    "train_df, val_df, test_df = np.split(train.sample(frac=1), [int(0.70*len(train)), int(0.85*len(train))])\n",
    "print(len(train_df), 'training examples')\n",
    "print(len(val_df), 'validation examples')\n",
    "print(len(test_df), 'test examples')\n"
   ]
  },
  {
   "cell_type": "code",
   "execution_count": 9,
   "id": "5ddc1c25c8035797",
   "metadata": {
    "ExecuteTime": {
     "end_time": "2024-03-04T02:34:47.394839Z",
     "start_time": "2024-03-04T02:34:47.389520Z"
    },
    "collapsed": false,
    "jupyter": {
     "outputs_hidden": false
    }
   },
   "outputs": [],
   "source": [
    "def df_to_dataset(dataframe, shuffle=True, batch_size=32):\n",
    "  df = dataframe.copy()\n",
    "  labels = df.pop('popularity')\n",
    "  df = {key: value.values[:,tf.newaxis] for key, value in dataframe.items()}\n",
    "  ds = tf.data.Dataset.from_tensor_slices((dict(df), labels))\n",
    "  if shuffle:\n",
    "    ds = ds.shuffle(buffer_size=len(dataframe))\n",
    "  ds = ds.batch(batch_size)\n",
    "  ds = ds.prefetch(batch_size)\n",
    "  return ds\n"
   ]
  },
  {
   "cell_type": "code",
   "execution_count": 10,
   "id": "b7d58dee44480f1b",
   "metadata": {
    "ExecuteTime": {
     "end_time": "2024-03-04T02:34:47.981844Z",
     "start_time": "2024-03-04T02:34:47.978112Z"
    },
    "collapsed": false,
    "jupyter": {
     "outputs_hidden": false
    }
   },
   "outputs": [],
   "source": [
    "def get_normalization_layer(name, dataset):\n",
    "  # Create a Normalization layer for the feature.\n",
    "  normalizer = keras.layers.Normalization(axis=None)\n",
    "\n",
    "  # Prepare a Dataset that only yields the feature.\n",
    "  feature_ds = dataset.map(lambda x, y: x[name])\n",
    "\n",
    "  # Learn the statistics of the data.\n",
    "  normalizer.adapt(feature_ds)\n",
    "\n",
    "  return normalizer\n"
   ]
  },
  {
   "cell_type": "code",
   "execution_count": 11,
   "id": "867d4f872497f213",
   "metadata": {
    "ExecuteTime": {
     "end_time": "2024-03-04T02:34:48.434829Z",
     "start_time": "2024-03-04T02:34:48.429918Z"
    },
    "collapsed": false,
    "jupyter": {
     "outputs_hidden": false
    }
   },
   "outputs": [],
   "source": [
    "def get_category_encoding_layer(name, dataset, dtype, max_tokens=None):\n",
    "  # Create a layer that turns strings into integer indices.\n",
    "  if dtype == 'string':\n",
    "    index = layers.StringLookup(max_tokens=max_tokens)\n",
    "  # Otherwise, create a layer that turns integer values into integer indices.\n",
    "  else:\n",
    "    index = layers.IntegerLookup(max_tokens=max_tokens)\n",
    "\n",
    "  # Prepare a `tf.data.Dataset` that only yields the feature.\n",
    "  feature_ds = dataset.map(lambda x, y: x[name])\n",
    "\n",
    "  # Learn the set of possible values and assign them a fixed integer index.\n",
    "  index.adapt(feature_ds)\n",
    "\n",
    "  # Encode the integer indices.\n",
    "  encoder = layers.CategoryEncoding(num_tokens=index.vocabulary_size())\n",
    "\n",
    "  # Apply multi-hot encoding to the indices. The lambda function captures the\n",
    "  # layer, so you can use them, or include them in the Keras Functional model later.\n",
    "  return lambda feature: encoder(index(feature))\n"
   ]
  },
  {
   "cell_type": "code",
   "execution_count": 12,
   "id": "aeed9b658d41207d",
   "metadata": {
    "ExecuteTime": {
     "end_time": "2024-03-04T02:34:49.218884Z",
     "start_time": "2024-03-04T02:34:49.200191Z"
    },
    "collapsed": false,
    "jupyter": {
     "outputs_hidden": false
    }
   },
   "outputs": [
    {
     "data": {
      "text/html": [
       "<div>\n",
       "<style scoped>\n",
       "    .dataframe tbody tr th:only-of-type {\n",
       "        vertical-align: middle;\n",
       "    }\n",
       "\n",
       "    .dataframe tbody tr th {\n",
       "        vertical-align: top;\n",
       "    }\n",
       "\n",
       "    .dataframe thead th {\n",
       "        text-align: right;\n",
       "    }\n",
       "</style>\n",
       "<table border=\"1\" class=\"dataframe\">\n",
       "  <thead>\n",
       "    <tr style=\"text-align: right;\">\n",
       "      <th></th>\n",
       "      <th>artists</th>\n",
       "      <th>name</th>\n",
       "      <th>year</th>\n",
       "      <th>acousticness</th>\n",
       "      <th>danceability</th>\n",
       "      <th>duration_ms</th>\n",
       "      <th>energy</th>\n",
       "      <th>explicit</th>\n",
       "      <th>instrumentalness</th>\n",
       "      <th>key</th>\n",
       "      <th>liveness</th>\n",
       "      <th>loudness</th>\n",
       "      <th>mode</th>\n",
       "      <th>speechiness</th>\n",
       "      <th>tempo</th>\n",
       "      <th>valence</th>\n",
       "      <th>popularity</th>\n",
       "    </tr>\n",
       "  </thead>\n",
       "  <tbody>\n",
       "    <tr>\n",
       "      <th>0</th>\n",
       "      <td>['Erroll Garner']</td>\n",
       "      <td>I'll Remember April - Original Edited Concert ...</td>\n",
       "      <td>1955</td>\n",
       "      <td>0.92300</td>\n",
       "      <td>0.438</td>\n",
       "      <td>257693</td>\n",
       "      <td>0.602</td>\n",
       "      <td>0</td>\n",
       "      <td>0.658000</td>\n",
       "      <td>8</td>\n",
       "      <td>0.9500</td>\n",
       "      <td>-14.565</td>\n",
       "      <td>1</td>\n",
       "      <td>0.0408</td>\n",
       "      <td>122.289</td>\n",
       "      <td>0.546</td>\n",
       "      <td>24.0</td>\n",
       "    </tr>\n",
       "    <tr>\n",
       "      <th>1</th>\n",
       "      <td>['Maison &amp; Dragen']</td>\n",
       "      <td>Chinese New Year - Radio Edit</td>\n",
       "      <td>2014</td>\n",
       "      <td>0.00019</td>\n",
       "      <td>0.477</td>\n",
       "      <td>193968</td>\n",
       "      <td>0.834</td>\n",
       "      <td>0</td>\n",
       "      <td>0.978000</td>\n",
       "      <td>4</td>\n",
       "      <td>0.3960</td>\n",
       "      <td>-6.534</td>\n",
       "      <td>0</td>\n",
       "      <td>0.0396</td>\n",
       "      <td>130.007</td>\n",
       "      <td>0.516</td>\n",
       "      <td>0.0</td>\n",
       "    </tr>\n",
       "    <tr>\n",
       "      <th>2</th>\n",
       "      <td>['Yoel Lerner', 'Mazi Cohen']</td>\n",
       "      <td>השפן הקטן</td>\n",
       "      <td>1981</td>\n",
       "      <td>0.90000</td>\n",
       "      <td>0.617</td>\n",
       "      <td>56827</td>\n",
       "      <td>0.272</td>\n",
       "      <td>0</td>\n",
       "      <td>0.000000</td>\n",
       "      <td>7</td>\n",
       "      <td>0.0879</td>\n",
       "      <td>-16.818</td>\n",
       "      <td>1</td>\n",
       "      <td>0.0577</td>\n",
       "      <td>83.244</td>\n",
       "      <td>0.807</td>\n",
       "      <td>38.0</td>\n",
       "    </tr>\n",
       "    <tr>\n",
       "      <th>3</th>\n",
       "      <td>['Barbra Streisand']</td>\n",
       "      <td>Run Wild</td>\n",
       "      <td>1980</td>\n",
       "      <td>0.29400</td>\n",
       "      <td>0.377</td>\n",
       "      <td>247467</td>\n",
       "      <td>0.269</td>\n",
       "      <td>0</td>\n",
       "      <td>0.000478</td>\n",
       "      <td>4</td>\n",
       "      <td>0.1440</td>\n",
       "      <td>-16.766</td>\n",
       "      <td>1</td>\n",
       "      <td>0.0268</td>\n",
       "      <td>82.302</td>\n",
       "      <td>0.196</td>\n",
       "      <td>40.0</td>\n",
       "    </tr>\n",
       "    <tr>\n",
       "      <th>4</th>\n",
       "      <td>['Willie Nelson']</td>\n",
       "      <td>Till I Gain Control Again - Live</td>\n",
       "      <td>1975</td>\n",
       "      <td>0.49400</td>\n",
       "      <td>0.501</td>\n",
       "      <td>351560</td>\n",
       "      <td>0.218</td>\n",
       "      <td>0</td>\n",
       "      <td>0.008110</td>\n",
       "      <td>0</td>\n",
       "      <td>0.2970</td>\n",
       "      <td>-13.045</td>\n",
       "      <td>1</td>\n",
       "      <td>0.0283</td>\n",
       "      <td>77.854</td>\n",
       "      <td>0.239</td>\n",
       "      <td>20.0</td>\n",
       "    </tr>\n",
       "  </tbody>\n",
       "</table>\n",
       "</div>"
      ],
      "text/plain": [
       "                         artists  \\\n",
       "0              ['Erroll Garner']   \n",
       "1            ['Maison & Dragen']   \n",
       "2  ['Yoel Lerner', 'Mazi Cohen']   \n",
       "3           ['Barbra Streisand']   \n",
       "4              ['Willie Nelson']   \n",
       "\n",
       "                                                name  year  acousticness  \\\n",
       "0  I'll Remember April - Original Edited Concert ...  1955       0.92300   \n",
       "1                      Chinese New Year - Radio Edit  2014       0.00019   \n",
       "2                                          השפן הקטן  1981       0.90000   \n",
       "3                                           Run Wild  1980       0.29400   \n",
       "4                   Till I Gain Control Again - Live  1975       0.49400   \n",
       "\n",
       "   danceability  duration_ms  energy  explicit  instrumentalness  key  \\\n",
       "0         0.438       257693   0.602         0          0.658000    8   \n",
       "1         0.477       193968   0.834         0          0.978000    4   \n",
       "2         0.617        56827   0.272         0          0.000000    7   \n",
       "3         0.377       247467   0.269         0          0.000478    4   \n",
       "4         0.501       351560   0.218         0          0.008110    0   \n",
       "\n",
       "   liveness  loudness  mode  speechiness    tempo  valence  popularity  \n",
       "0    0.9500   -14.565     1       0.0408  122.289    0.546        24.0  \n",
       "1    0.3960    -6.534     0       0.0396  130.007    0.516         0.0  \n",
       "2    0.0879   -16.818     1       0.0577   83.244    0.807        38.0  \n",
       "3    0.1440   -16.766     1       0.0268   82.302    0.196        40.0  \n",
       "4    0.2970   -13.045     1       0.0283   77.854    0.239        20.0  "
      ]
     },
     "execution_count": 12,
     "metadata": {},
     "output_type": "execute_result"
    }
   ],
   "source": [
    "train.head()"
   ]
  },
  {
   "cell_type": "code",
   "execution_count": 13,
   "id": "caa7bb43168121e8",
   "metadata": {
    "ExecuteTime": {
     "end_time": "2024-03-04T02:34:51.625109Z",
     "start_time": "2024-03-04T02:34:50.073261Z"
    },
    "collapsed": false,
    "jupyter": {
     "outputs_hidden": false
    }
   },
   "outputs": [
    {
     "data": {
      "text/plain": [
       "<Axes: xlabel='popularity'>"
      ]
     },
     "execution_count": 13,
     "metadata": {},
     "output_type": "execute_result"
    },
    {
     "data": {
      "image/png": "[encoded data removed]",
      "text/plain": [
       "<Figure size 640x480 with 1 Axes>"
      ]
     },
     "metadata": {},
     "output_type": "display_data"
    }
   ],
   "source": [
    "train.popularity.value_counts().plot(kind='bar')"
   ]
  },
  {
   "cell_type": "code",
   "execution_count": 14,
   "id": "461d9ccd6349f588",
   "metadata": {
    "ExecuteTime": {
     "end_time": "2024-03-04T02:34:53.824296Z",
     "start_time": "2024-03-04T02:34:52.793124Z"
    },
    "collapsed": false,
    "jupyter": {
     "outputs_hidden": false
    }
   },
   "outputs": [
    {
     "name": "stderr",
     "output_type": "stream",
     "text": [
      "2024-03-03 23:34:53.477063: I external/local_xla/xla/stream_executor/cuda/cuda_executor.cc:901] successful NUMA node read from SysFS had negative value (-1), but there must be at least one NUMA node, so returning NUMA node zero. See more at https://github.com/torvalds/linux/blob/v6.0/Documentation/ABI/testing/sysfs-bus-pci#L344-L355\n",
      "2024-03-03 23:34:53.655883: W tensorflow/core/common_runtime/gpu/gpu_device.cc:2256] Cannot dlopen some GPU libraries. Please make sure the missing libraries mentioned above are installed properly if you would like to use GPU. Follow the guide at https://www.tensorflow.org/install/gpu for how to download and setup the required libraries for your platform.\n",
      "Skipping registering GPU devices...\n"
     ]
    }
   ],
   "source": [
    "batch_size = 256\n",
    "train_ds = df_to_dataset(train_df, batch_size=batch_size)\n",
    "val_ds = df_to_dataset(val_df, shuffle=False, batch_size=batch_size)\n",
    "test_ds = df_to_dataset(test_df, shuffle=False, batch_size=batch_size)\n"
   ]
  },
  {
   "cell_type": "code",
   "execution_count": 15,
   "id": "6cb1b09d37d70e90",
   "metadata": {
    "ExecuteTime": {
     "end_time": "2024-03-04T02:36:11.610506Z",
     "start_time": "2024-03-04T02:36:11.597444Z"
    },
    "collapsed": false,
    "jupyter": {
     "outputs_hidden": false
    }
   },
   "outputs": [
    {
     "name": "stdout",
     "output_type": "stream",
     "text": [
      "['artists', 'name']\n",
      "['year', 'acousticness', 'danceability', 'duration_ms', 'energy', 'explicit', 'instrumentalness', 'key', 'liveness', 'loudness', 'mode', 'speechiness', 'tempo', 'valence', 'popularity']\n"
     ]
    }
   ],
   "source": [
    "categorical_feats = list(train.select_dtypes(exclude=(np.number)).columns)\n",
    "numerical_feats = list(train.select_dtypes(include=(np.number)).columns)\n",
    "\n",
    "print(categorical_feats)\n",
    "print(numerical_feats)"
   ]
  },
  {
   "cell_type": "code",
   "execution_count": 16,
   "id": "e97874f6accffdc6",
   "metadata": {
    "ExecuteTime": {
     "end_time": "2024-03-04T02:36:30.759158Z",
     "start_time": "2024-03-04T02:36:12.497838Z"
    },
    "collapsed": false,
    "jupyter": {
     "outputs_hidden": false
    }
   },
   "outputs": [],
   "source": [
    "all_inputs = []\n",
    "encoded_features = []\n",
    "\n",
    "# Numerical features.\n",
    "for header in ['year', 'acousticness', 'danceability', 'duration_ms', 'energy', 'explicit', 'instrumentalness', 'key', 'liveness', 'loudness', 'mode', 'speechiness', 'tempo', 'valence']:\n",
    "  numeric_col = tf.keras.Input(shape=(1,), name=header)\n",
    "  normalization_layer = get_normalization_layer(header, train_ds)\n",
    "  encoded_numeric_col = normalization_layer(numeric_col)\n",
    "  all_inputs.append(numeric_col)\n",
    "  encoded_features.append(encoded_numeric_col)\n"
   ]
  },
  {
   "cell_type": "code",
   "execution_count": 17,
   "id": "34d042dbf638abc4",
   "metadata": {
    "ExecuteTime": {
     "end_time": "2024-03-04T02:36:38.312899Z",
     "start_time": "2024-03-04T02:36:35.031121Z"
    },
    "collapsed": false,
    "jupyter": {
     "outputs_hidden": false
    }
   },
   "outputs": [],
   "source": [
    "\n",
    "\n",
    "for header in categorical_feats:\n",
    "  categorical_col = tf.keras.Input(shape=(1,), name=header, dtype='string')\n",
    "  encoding_layer = get_category_encoding_layer(name=header,\n",
    "                                               dataset=train_ds,\n",
    "                                               dtype='string',\n",
    "                                               max_tokens=5)\n",
    "  encoded_categorical_col = encoding_layer(categorical_col)\n",
    "  all_inputs.append(categorical_col)\n",
    "  encoded_features.append(encoded_categorical_col)\n"
   ]
  },
  {
   "cell_type": "markdown",
   "id": "e6387e8fa757faa7",
   "metadata": {
    "collapsed": false,
    "jupyter": {
     "outputs_hidden": false
    }
   },
   "source": [
    "### Baseline"
   ]
  },
  {
   "cell_type": "code",
   "execution_count": 25,
   "id": "92470c8524abd0c1",
   "metadata": {
    "ExecuteTime": {
     "end_time": "2024-03-03T09:04:27.830661Z",
     "start_time": "2024-03-03T09:04:27.774771Z"
    },
    "collapsed": false,
    "jupyter": {
     "outputs_hidden": false
    }
   },
   "outputs": [],
   "source": [
    "\n",
    "all_features = tf.keras.layers.concatenate(encoded_features)\n",
    "x = tf.keras.layers.Dense(32, activation=\"swish\", kernel_initializer='he_normal')(all_features)\n",
    "output = tf.keras.layers.Dense(1)(x)\n",
    "\n",
    "model = tf.keras.Model(all_inputs, output)\n",
    "model.compile(optimizer='adam',\n",
    "              loss=tf.keras.losses.MeanSquaredError(),\n",
    "              metrics=[keras.metrics.RootMeanSquaredError()])\n"
   ]
  },
  {
   "cell_type": "code",
   "execution_count": 70,
   "id": "1954d84e02247a5f",
   "metadata": {
    "ExecuteTime": {
     "end_time": "2024-02-29T07:45:49.681404Z",
     "start_time": "2024-02-29T07:45:32.230261Z"
    },
    "collapsed": false,
    "jupyter": {
     "outputs_hidden": false
    }
   },
   "outputs": [
    {
     "name": "stdout",
     "output_type": "stream",
     "text": [
      "Epoch 1/10\n",
      "\u001b[1m354/354\u001b[0m \u001b[32m━━━━━━━━━━━━━━━━━━━━\u001b[0m\u001b[37m\u001b[0m \u001b[1m3s\u001b[0m 3ms/step - loss: 963.0976 - root_mean_squared_error: 30.9743 - val_loss: 376.9118 - val_root_mean_squared_error: 19.4157\n",
      "Epoch 2/10\n",
      "\u001b[1m354/354\u001b[0m \u001b[32m━━━━━━━━━━━━━━━━━━━━\u001b[0m\u001b[37m\u001b[0m \u001b[1m2s\u001b[0m 3ms/step - loss: 334.6841 - root_mean_squared_error: 18.2897 - val_loss: 278.1494 - val_root_mean_squared_error: 16.6757\n",
      "Epoch 3/10\n",
      "\u001b[1m354/354\u001b[0m \u001b[32m━━━━━━━━━━━━━━━━━━━━\u001b[0m\u001b[37m\u001b[0m \u001b[1m2s\u001b[0m 3ms/step - loss: 270.2330 - root_mean_squared_error: 16.4383 - val_loss: 254.8071 - val_root_mean_squared_error: 15.9588\n",
      "Epoch 4/10\n",
      "\u001b[1m354/354\u001b[0m \u001b[32m━━━━━━━━━━━━━━━━━━━━\u001b[0m\u001b[37m\u001b[0m \u001b[1m2s\u001b[0m 3ms/step - loss: 253.4281 - root_mean_squared_error: 15.9188 - val_loss: 242.0527 - val_root_mean_squared_error: 15.5537\n",
      "Epoch 5/10\n",
      "\u001b[1m354/354\u001b[0m \u001b[32m━━━━━━━━━━━━━━━━━━━━\u001b[0m\u001b[37m\u001b[0m \u001b[1m2s\u001b[0m 3ms/step - loss: 239.9436 - root_mean_squared_error: 15.4896 - val_loss: 233.1928 - val_root_mean_squared_error: 15.2663\n",
      "Epoch 6/10\n",
      "\u001b[1m354/354\u001b[0m \u001b[32m━━━━━━━━━━━━━━━━━━━━\u001b[0m\u001b[37m\u001b[0m \u001b[1m2s\u001b[0m 3ms/step - loss: 230.3022 - root_mean_squared_error: 15.1755 - val_loss: 225.3604 - val_root_mean_squared_error: 15.0077\n",
      "Epoch 7/10\n",
      "\u001b[1m354/354\u001b[0m \u001b[32m━━━━━━━━━━━━━━━━━━━━\u001b[0m\u001b[37m\u001b[0m \u001b[1m2s\u001b[0m 3ms/step - loss: 222.1780 - root_mean_squared_error: 14.9056 - val_loss: 220.5069 - val_root_mean_squared_error: 14.8451\n",
      "Epoch 8/10\n",
      "\u001b[1m354/354\u001b[0m \u001b[32m━━━━━━━━━━━━━━━━━━━━\u001b[0m\u001b[37m\u001b[0m \u001b[1m2s\u001b[0m 3ms/step - loss: 218.2567 - root_mean_squared_error: 14.7734 - val_loss: 216.8743 - val_root_mean_squared_error: 14.7224\n",
      "Epoch 9/10\n",
      "\u001b[1m354/354\u001b[0m \u001b[32m━━━━━━━━━━━━━━━━━━━━\u001b[0m\u001b[37m\u001b[0m \u001b[1m2s\u001b[0m 3ms/step - loss: 213.8398 - root_mean_squared_error: 14.6231 - val_loss: 214.2938 - val_root_mean_squared_error: 14.6347\n",
      "Epoch 10/10\n",
      "\u001b[1m354/354\u001b[0m \u001b[32m━━━━━━━━━━━━━━━━━━━━\u001b[0m\u001b[37m\u001b[0m \u001b[1m1s\u001b[0m 2ms/step - loss: 215.5520 - root_mean_squared_error: 14.6814 - val_loss: 212.5170 - val_root_mean_squared_error: 14.5739\n"
     ]
    }
   ],
   "source": [
    "history = model.fit(train_ds, epochs=10, validation_data=val_ds)"
   ]
  },
  {
   "cell_type": "code",
   "execution_count": 71,
   "id": "510a6797c2ee3368",
   "metadata": {
    "ExecuteTime": {
     "end_time": "2024-02-29T07:58:34.187742Z",
     "start_time": "2024-02-29T07:58:33.962327Z"
    },
    "collapsed": false,
    "jupyter": {
     "outputs_hidden": false
    }
   },
   "outputs": [
    {
     "name": "stdout",
     "output_type": "stream",
     "text": [
      "\u001b[1m76/76\u001b[0m \u001b[32m━━━━━━━━━━━━━━━━━━━━\u001b[0m\u001b[37m\u001b[0m \u001b[1m0s\u001b[0m 3ms/step - loss: 207.0470 - root_mean_squared_error: 14.3889\n"
     ]
    },
    {
     "data": {
      "text/plain": [
       "[207.54800415039062, 14.403416633605957]"
      ]
     },
     "execution_count": 71,
     "metadata": {},
     "output_type": "execute_result"
    }
   ],
   "source": [
    "model.evaluate(test_ds)"
   ]
  },
  {
   "cell_type": "code",
   "execution_count": 73,
   "id": "895ad44f074bddc",
   "metadata": {
    "ExecuteTime": {
     "end_time": "2024-02-29T08:01:03.271508Z",
     "start_time": "2024-02-29T08:01:03.063908Z"
    },
    "collapsed": false,
    "jupyter": {
     "outputs_hidden": false
    }
   },
   "outputs": [
    {
     "data": {
      "text/plain": [
       "[<matplotlib.lines.Line2D at 0x7f75444cadd0>]"
      ]
     },
     "execution_count": 73,
     "metadata": {},
     "output_type": "execute_result"
    },
    {
     "data": {
      "image/png": "[encoded data removed]",
      "text/plain": [
       "<Figure size 640x480 with 1 Axes>"
      ]
     },
     "metadata": {},
     "output_type": "display_data"
    }
   ],
   "source": [
    "import matplotlib.pyplot as plt\n",
    "plt.plot(history.history['loss'], label='Loss Training', color='red')\n",
    "plt.plot(history.history['val_loss'], label='Validation Loss', color='blue')\n",
    "plt.plot(history.history['root_mean_squared_error'], label='Training Accuracy')\n",
    "plt.plot(history.history['val_root_mean_squared_error'], label='Validation Accuracy', color='cyan')"
   ]
  },
  {
   "cell_type": "markdown",
   "id": "d7b2ce06796dcdc1",
   "metadata": {
    "collapsed": false,
    "jupyter": {
     "outputs_hidden": false
    }
   },
   "source": [
    "### Test 1"
   ]
  },
  {
   "cell_type": "code",
   "execution_count": 72,
   "id": "fc5f25150eaace25",
   "metadata": {
    "ExecuteTime": {
     "end_time": "2024-02-29T08:00:10.351400Z",
     "start_time": "2024-02-29T08:00:10.320027Z"
    },
    "collapsed": false,
    "jupyter": {
     "outputs_hidden": false
    }
   },
   "outputs": [],
   "source": [
    "\n",
    "all_features = tf.keras.layers.concatenate(encoded_features)\n",
    "x = tf.keras.layers.Dense(32, activation=\"swish\", kernel_initializer='he_normal')(all_features)\n",
    "x = tf.keras.layers.Dense(32, activation=\"swish\", kernel_initializer='he_normal')(x)\n",
    "x = tf.keras.layers.Dense(32, activation=\"swish\", kernel_initializer='he_normal')(x)\n",
    "output = tf.keras.layers.Dense(1)(x)\n",
    "\n",
    "model = tf.keras.Model(all_inputs, output)\n",
    "model.compile(optimizer='adam',\n",
    "              loss=tf.keras.losses.MeanSquaredError(),\n",
    "              metrics=[keras.metrics.RootMeanSquaredError()])\n"
   ]
  },
  {
   "cell_type": "code",
   "execution_count": 74,
   "id": "eacb0fe861b1c987",
   "metadata": {
    "ExecuteTime": {
     "end_time": "2024-02-29T08:02:20.518031Z",
     "start_time": "2024-02-29T08:01:47.136586Z"
    },
    "collapsed": false,
    "jupyter": {
     "outputs_hidden": false
    }
   },
   "outputs": [
    {
     "name": "stdout",
     "output_type": "stream",
     "text": [
      "Epoch 1/20\n",
      "\u001b[1m354/354\u001b[0m \u001b[32m━━━━━━━━━━━━━━━━━━━━\u001b[0m\u001b[37m\u001b[0m \u001b[1m4s\u001b[0m 4ms/step - loss: 697.6720 - root_mean_squared_error: 26.0666 - val_loss: 242.4326 - val_root_mean_squared_error: 15.5647\n",
      "Epoch 2/20\n",
      "\u001b[1m354/354\u001b[0m \u001b[32m━━━━━━━━━━━━━━━━━━━━\u001b[0m\u001b[37m\u001b[0m \u001b[1m2s\u001b[0m 3ms/step - loss: 235.9925 - root_mean_squared_error: 15.3599 - val_loss: 206.9554 - val_root_mean_squared_error: 14.3823\n",
      "Epoch 3/20\n",
      "\u001b[1m354/354\u001b[0m \u001b[32m━━━━━━━━━━━━━━━━━━━━\u001b[0m\u001b[37m\u001b[0m \u001b[1m2s\u001b[0m 3ms/step - loss: 202.1640 - root_mean_squared_error: 14.2183 - val_loss: 195.9544 - val_root_mean_squared_error: 13.9959\n",
      "Epoch 4/20\n",
      "\u001b[1m354/354\u001b[0m \u001b[32m━━━━━━━━━━━━━━━━━━━━\u001b[0m\u001b[37m\u001b[0m \u001b[1m2s\u001b[0m 3ms/step - loss: 192.8044 - root_mean_squared_error: 13.8853 - val_loss: 189.7552 - val_root_mean_squared_error: 13.7730\n",
      "Epoch 5/20\n",
      "\u001b[1m354/354\u001b[0m \u001b[32m━━━━━━━━━━━━━━━━━━━━\u001b[0m\u001b[37m\u001b[0m \u001b[1m2s\u001b[0m 3ms/step - loss: 186.2375 - root_mean_squared_error: 13.6460 - val_loss: 186.3936 - val_root_mean_squared_error: 13.6509\n",
      "Epoch 6/20\n",
      "\u001b[1m354/354\u001b[0m \u001b[32m━━━━━━━━━━━━━━━━━━━━\u001b[0m\u001b[37m\u001b[0m \u001b[1m2s\u001b[0m 3ms/step - loss: 181.1999 - root_mean_squared_error: 13.4603 - val_loss: 184.2937 - val_root_mean_squared_error: 13.5739\n",
      "Epoch 7/20\n",
      "\u001b[1m354/354\u001b[0m \u001b[32m━━━━━━━━━━━━━━━━━━━━\u001b[0m\u001b[37m\u001b[0m \u001b[1m2s\u001b[0m 3ms/step - loss: 181.0653 - root_mean_squared_error: 13.4560 - val_loss: 183.4465 - val_root_mean_squared_error: 13.5432\n",
      "Epoch 8/20\n",
      "\u001b[1m354/354\u001b[0m \u001b[32m━━━━━━━━━━━━━━━━━━━━\u001b[0m\u001b[37m\u001b[0m \u001b[1m2s\u001b[0m 3ms/step - loss: 181.3823 - root_mean_squared_error: 13.4669 - val_loss: 180.8877 - val_root_mean_squared_error: 13.4483\n",
      "Epoch 9/20\n",
      "\u001b[1m354/354\u001b[0m \u001b[32m━━━━━━━━━━━━━━━━━━━━\u001b[0m\u001b[37m\u001b[0m \u001b[1m2s\u001b[0m 3ms/step - loss: 178.1431 - root_mean_squared_error: 13.3469 - val_loss: 179.6501 - val_root_mean_squared_error: 13.4025\n",
      "Epoch 10/20\n",
      "\u001b[1m354/354\u001b[0m \u001b[32m━━━━━━━━━━━━━━━━━━━━\u001b[0m\u001b[37m\u001b[0m \u001b[1m2s\u001b[0m 3ms/step - loss: 178.1277 - root_mean_squared_error: 13.3463 - val_loss: 179.3158 - val_root_mean_squared_error: 13.3901\n",
      "Epoch 11/20\n",
      "\u001b[1m354/354\u001b[0m \u001b[32m━━━━━━━━━━━━━━━━━━━━\u001b[0m\u001b[37m\u001b[0m \u001b[1m2s\u001b[0m 3ms/step - loss: 177.4079 - root_mean_squared_error: 13.3192 - val_loss: 180.9003 - val_root_mean_squared_error: 13.4492\n",
      "Epoch 12/20\n",
      "\u001b[1m354/354\u001b[0m \u001b[32m━━━━━━━━━━━━━━━━━━━━\u001b[0m\u001b[37m\u001b[0m \u001b[1m2s\u001b[0m 3ms/step - loss: 173.5984 - root_mean_squared_error: 13.1754 - val_loss: 177.4092 - val_root_mean_squared_error: 13.3193\n",
      "Epoch 13/20\n",
      "\u001b[1m354/354\u001b[0m \u001b[32m━━━━━━━━━━━━━━━━━━━━\u001b[0m\u001b[37m\u001b[0m \u001b[1m1s\u001b[0m 3ms/step - loss: 174.8743 - root_mean_squared_error: 13.2237 - val_loss: 178.2453 - val_root_mean_squared_error: 13.3502\n",
      "Epoch 14/20\n",
      "\u001b[1m354/354\u001b[0m \u001b[32m━━━━━━━━━━━━━━━━━━━━\u001b[0m\u001b[37m\u001b[0m \u001b[1m2s\u001b[0m 3ms/step - loss: 174.9989 - root_mean_squared_error: 13.2284 - val_loss: 177.1217 - val_root_mean_squared_error: 13.3083\n",
      "Epoch 15/20\n",
      "\u001b[1m354/354\u001b[0m \u001b[32m━━━━━━━━━━━━━━━━━━━━\u001b[0m\u001b[37m\u001b[0m \u001b[1m2s\u001b[0m 3ms/step - loss: 174.0061 - root_mean_squared_error: 13.1909 - val_loss: 176.3270 - val_root_mean_squared_error: 13.2777\n",
      "Epoch 16/20\n",
      "\u001b[1m354/354\u001b[0m \u001b[32m━━━━━━━━━━━━━━━━━━━━\u001b[0m\u001b[37m\u001b[0m \u001b[1m2s\u001b[0m 3ms/step - loss: 175.4805 - root_mean_squared_error: 13.2463 - val_loss: 175.5941 - val_root_mean_squared_error: 13.2502\n",
      "Epoch 17/20\n",
      "\u001b[1m354/354\u001b[0m \u001b[32m━━━━━━━━━━━━━━━━━━━━\u001b[0m\u001b[37m\u001b[0m \u001b[1m1s\u001b[0m 2ms/step - loss: 174.1375 - root_mean_squared_error: 13.1960 - val_loss: 177.2089 - val_root_mean_squared_error: 13.3123\n",
      "Epoch 18/20\n",
      "\u001b[1m354/354\u001b[0m \u001b[32m━━━━━━━━━━━━━━━━━━━━\u001b[0m\u001b[37m\u001b[0m \u001b[1m2s\u001b[0m 3ms/step - loss: 171.9598 - root_mean_squared_error: 13.1129 - val_loss: 174.9215 - val_root_mean_squared_error: 13.2255\n",
      "Epoch 19/20\n",
      "\u001b[1m354/354\u001b[0m \u001b[32m━━━━━━━━━━━━━━━━━━━━\u001b[0m\u001b[37m\u001b[0m \u001b[1m1s\u001b[0m 2ms/step - loss: 169.4749 - root_mean_squared_error: 13.0172 - val_loss: 175.1399 - val_root_mean_squared_error: 13.2336\n",
      "Epoch 20/20\n",
      "\u001b[1m354/354\u001b[0m \u001b[32m━━━━━━━━━━━━━━━━━━━━\u001b[0m\u001b[37m\u001b[0m \u001b[1m2s\u001b[0m 3ms/step - loss: 172.5459 - root_mean_squared_error: 13.1355 - val_loss: 174.6750 - val_root_mean_squared_error: 13.2169\n"
     ]
    }
   ],
   "source": [
    "history = model.fit(train_ds, epochs=20, validation_data=val_ds)\n"
   ]
  },
  {
   "cell_type": "code",
   "execution_count": 75,
   "id": "2199ba49de0396e4",
   "metadata": {
    "ExecuteTime": {
     "end_time": "2024-02-29T08:02:45.439838Z",
     "start_time": "2024-02-29T08:02:45.191070Z"
    },
    "collapsed": false,
    "jupyter": {
     "outputs_hidden": false
    }
   },
   "outputs": [
    {
     "name": "stdout",
     "output_type": "stream",
     "text": [
      "\u001b[1m76/76\u001b[0m \u001b[32m━━━━━━━━━━━━━━━━━━━━\u001b[0m\u001b[37m\u001b[0m \u001b[1m0s\u001b[0m 3ms/step - loss: 169.1066 - root_mean_squared_error: 13.0038\n"
     ]
    },
    {
     "data": {
      "text/plain": [
       "[170.38653564453125, 13.048639297485352]"
      ]
     },
     "execution_count": 75,
     "metadata": {},
     "output_type": "execute_result"
    }
   ],
   "source": [
    "model.evaluate(test_ds)"
   ]
  },
  {
   "cell_type": "code",
   "execution_count": 78,
   "id": "ff8fcac79a0e1fec",
   "metadata": {
    "ExecuteTime": {
     "end_time": "2024-02-29T08:04:15.288136Z",
     "start_time": "2024-02-29T08:04:15.093970Z"
    },
    "collapsed": false,
    "jupyter": {
     "outputs_hidden": false
    }
   },
   "outputs": [
    {
     "data": {
      "text/plain": [
       "[<matplotlib.lines.Line2D at 0x7f75966cd0d0>]"
      ]
     },
     "execution_count": 78,
     "metadata": {},
     "output_type": "execute_result"
    },
    {
     "data": {
      "image/png": "[encoded data removed]",
      "text/plain": [
       "<Figure size 640x480 with 1 Axes>"
      ]
     },
     "metadata": {},
     "output_type": "display_data"
    }
   ],
   "source": [
    "plt.plot(history.history['loss'], label='Loss Training', color='red')\n",
    "plt.plot(history.history['val_loss'], label='Validation Loss', color='blue')\n",
    "plt.plot(history.history['root_mean_squared_error'], label='Training Accuracy')\n",
    "plt.plot(history.history['val_root_mean_squared_error'], label='Validation Accuracy', color='cyan')"
   ]
  },
  {
   "cell_type": "code",
   "execution_count": 80,
   "id": "92315eb14cedd17a",
   "metadata": {
    "ExecuteTime": {
     "end_time": "2024-02-29T08:04:41.852362Z",
     "start_time": "2024-02-29T08:04:41.599142Z"
    },
    "collapsed": false,
    "jupyter": {
     "outputs_hidden": false
    }
   },
   "outputs": [
    {
     "data": {
      "text/plain": [
       "[<matplotlib.lines.Line2D at 0x7f759659e8d0>]"
      ]
     },
     "execution_count": 80,
     "metadata": {},
     "output_type": "execute_result"
    },
    {
     "data": {
      "image/png": "[encoded data removed]",
      "text/plain": [
       "<Figure size 640x480 with 1 Axes>"
      ]
     },
     "metadata": {},
     "output_type": "display_data"
    }
   ],
   "source": [
    "plt.plot(history.history['root_mean_squared_error'], label='Training Accuracy', color='green')\n",
    "plt.plot(history.history['val_root_mean_squared_error'], label='Validation Accuracy', color='cyan')"
   ]
  },
  {
   "cell_type": "markdown",
   "id": "3072415d67598ff0",
   "metadata": {
    "collapsed": false,
    "jupyter": {
     "outputs_hidden": false
    }
   },
   "source": [
    "### Test 2"
   ]
  },
  {
   "cell_type": "code",
   "execution_count": 81,
   "id": "3282f8701cc11c99",
   "metadata": {
    "ExecuteTime": {
     "end_time": "2024-02-29T08:06:44.171254Z",
     "start_time": "2024-02-29T08:06:44.136561Z"
    },
    "collapsed": false,
    "jupyter": {
     "outputs_hidden": false
    }
   },
   "outputs": [],
   "source": [
    "\n",
    "all_features = tf.keras.layers.concatenate(encoded_features)\n",
    "x = tf.keras.layers.Dense(128, activation=\"swish\", kernel_initializer='he_normal')(all_features)\n",
    "x = tf.keras.layers.Dense(64, activation=\"swish\", kernel_initializer='he_normal')(x)\n",
    "x = tf.keras.layers.Dense(32, activation=\"swish\", kernel_initializer='he_normal')(x)\n",
    "output = tf.keras.layers.Dense(1)(x)\n",
    "\n",
    "model = tf.keras.Model(all_inputs, output)\n",
    "model.compile(optimizer='adam',\n",
    "              loss=tf.keras.losses.MeanSquaredError(),\n",
    "              metrics=[keras.metrics.RootMeanSquaredError()])\n"
   ]
  },
  {
   "cell_type": "code",
   "execution_count": 82,
   "id": "2fa09b98d5e30661",
   "metadata": {
    "ExecuteTime": {
     "end_time": "2024-02-29T08:07:36.632973Z",
     "start_time": "2024-02-29T08:07:01.470425Z"
    },
    "collapsed": false,
    "jupyter": {
     "outputs_hidden": false
    }
   },
   "outputs": [
    {
     "name": "stdout",
     "output_type": "stream",
     "text": [
      "Epoch 1/20\n",
      "\u001b[1m354/354\u001b[0m \u001b[32m━━━━━━━━━━━━━━━━━━━━\u001b[0m\u001b[37m\u001b[0m \u001b[1m4s\u001b[0m 4ms/step - loss: 500.8316 - root_mean_squared_error: 21.9710 - val_loss: 214.7596 - val_root_mean_squared_error: 14.6507\n",
      "Epoch 2/20\n",
      "\u001b[1m354/354\u001b[0m \u001b[32m━━━━━━━━━━━━━━━━━━━━\u001b[0m\u001b[37m\u001b[0m \u001b[1m2s\u001b[0m 3ms/step - loss: 203.9750 - root_mean_squared_error: 14.2812 - val_loss: 193.2063 - val_root_mean_squared_error: 13.8972\n",
      "Epoch 3/20\n",
      "\u001b[1m354/354\u001b[0m \u001b[32m━━━━━━━━━━━━━━━━━━━━\u001b[0m\u001b[37m\u001b[0m \u001b[1m2s\u001b[0m 3ms/step - loss: 189.0242 - root_mean_squared_error: 13.7482 - val_loss: 188.2681 - val_root_mean_squared_error: 13.7177\n",
      "Epoch 4/20\n",
      "\u001b[1m354/354\u001b[0m \u001b[32m━━━━━━━━━━━━━━━━━━━━\u001b[0m\u001b[37m\u001b[0m \u001b[1m2s\u001b[0m 3ms/step - loss: 185.2233 - root_mean_squared_error: 13.6096 - val_loss: 185.2981 - val_root_mean_squared_error: 13.6106\n",
      "Epoch 5/20\n",
      "\u001b[1m354/354\u001b[0m \u001b[32m━━━━━━━━━━━━━━━━━━━━\u001b[0m\u001b[37m\u001b[0m \u001b[1m2s\u001b[0m 3ms/step - loss: 179.3706 - root_mean_squared_error: 13.3925 - val_loss: 182.1000 - val_root_mean_squared_error: 13.4939\n",
      "Epoch 6/20\n",
      "\u001b[1m354/354\u001b[0m \u001b[32m━━━━━━━━━━━━━━━━━━━━\u001b[0m\u001b[37m\u001b[0m \u001b[1m2s\u001b[0m 3ms/step - loss: 179.0257 - root_mean_squared_error: 13.3796 - val_loss: 179.1497 - val_root_mean_squared_error: 13.3851\n",
      "Epoch 7/20\n",
      "\u001b[1m354/354\u001b[0m \u001b[32m━━━━━━━━━━━━━━━━━━━━\u001b[0m\u001b[37m\u001b[0m \u001b[1m2s\u001b[0m 3ms/step - loss: 175.4039 - root_mean_squared_error: 13.2439 - val_loss: 179.2126 - val_root_mean_squared_error: 13.3864\n",
      "Epoch 8/20\n",
      "\u001b[1m354/354\u001b[0m \u001b[32m━━━━━━━━━━━━━━━━━━━━\u001b[0m\u001b[37m\u001b[0m \u001b[1m2s\u001b[0m 3ms/step - loss: 173.1101 - root_mean_squared_error: 13.1570 - val_loss: 177.0036 - val_root_mean_squared_error: 13.3025\n",
      "Epoch 9/20\n",
      "\u001b[1m354/354\u001b[0m \u001b[32m━━━━━━━━━━━━━━━━━━━━\u001b[0m\u001b[37m\u001b[0m \u001b[1m2s\u001b[0m 3ms/step - loss: 171.8728 - root_mean_squared_error: 13.1098 - val_loss: 175.7084 - val_root_mean_squared_error: 13.2541\n",
      "Epoch 10/20\n",
      "\u001b[1m354/354\u001b[0m \u001b[32m━━━━━━━━━━━━━━━━━━━━\u001b[0m\u001b[37m\u001b[0m \u001b[1m2s\u001b[0m 3ms/step - loss: 174.6293 - root_mean_squared_error: 13.2144 - val_loss: 176.6981 - val_root_mean_squared_error: 13.2931\n",
      "Epoch 11/20\n",
      "\u001b[1m354/354\u001b[0m \u001b[32m━━━━━━━━━━━━━━━━━━━━\u001b[0m\u001b[37m\u001b[0m \u001b[1m2s\u001b[0m 3ms/step - loss: 170.4602 - root_mean_squared_error: 13.0557 - val_loss: 183.4652 - val_root_mean_squared_error: 13.5462\n",
      "Epoch 12/20\n",
      "\u001b[1m354/354\u001b[0m \u001b[32m━━━━━━━━━━━━━━━━━━━━\u001b[0m\u001b[37m\u001b[0m \u001b[1m2s\u001b[0m 3ms/step - loss: 174.1267 - root_mean_squared_error: 13.1950 - val_loss: 173.4978 - val_root_mean_squared_error: 13.1714\n",
      "Epoch 13/20\n",
      "\u001b[1m354/354\u001b[0m \u001b[32m━━━━━━━━━━━━━━━━━━━━\u001b[0m\u001b[37m\u001b[0m \u001b[1m2s\u001b[0m 3ms/step - loss: 169.5958 - root_mean_squared_error: 13.0224 - val_loss: 175.0698 - val_root_mean_squared_error: 13.2322\n",
      "Epoch 14/20\n",
      "\u001b[1m354/354\u001b[0m \u001b[32m━━━━━━━━━━━━━━━━━━━━\u001b[0m\u001b[37m\u001b[0m \u001b[1m2s\u001b[0m 3ms/step - loss: 170.2984 - root_mean_squared_error: 13.0497 - val_loss: 173.4241 - val_root_mean_squared_error: 13.1688\n",
      "Epoch 15/20\n",
      "\u001b[1m354/354\u001b[0m \u001b[32m━━━━━━━━━━━━━━━━━━━━\u001b[0m\u001b[37m\u001b[0m \u001b[1m2s\u001b[0m 3ms/step - loss: 168.5772 - root_mean_squared_error: 12.9832 - val_loss: 175.9457 - val_root_mean_squared_error: 13.2630\n",
      "Epoch 16/20\n",
      "\u001b[1m354/354\u001b[0m \u001b[32m━━━━━━━━━━━━━━━━━━━━\u001b[0m\u001b[37m\u001b[0m \u001b[1m2s\u001b[0m 3ms/step - loss: 171.9967 - root_mean_squared_error: 13.1132 - val_loss: 175.0880 - val_root_mean_squared_error: 13.2318\n",
      "Epoch 17/20\n",
      "\u001b[1m354/354\u001b[0m \u001b[32m━━━━━━━━━━━━━━━━━━━━\u001b[0m\u001b[37m\u001b[0m \u001b[1m2s\u001b[0m 3ms/step - loss: 168.5238 - root_mean_squared_error: 12.9809 - val_loss: 174.8080 - val_root_mean_squared_error: 13.2224\n",
      "Epoch 18/20\n",
      "\u001b[1m354/354\u001b[0m \u001b[32m━━━━━━━━━━━━━━━━━━━━\u001b[0m\u001b[37m\u001b[0m \u001b[1m2s\u001b[0m 3ms/step - loss: 167.5723 - root_mean_squared_error: 12.9443 - val_loss: 172.7471 - val_root_mean_squared_error: 13.1436\n",
      "Epoch 19/20\n",
      "\u001b[1m354/354\u001b[0m \u001b[32m━━━━━━━━━━━━━━━━━━━━\u001b[0m\u001b[37m\u001b[0m \u001b[1m2s\u001b[0m 3ms/step - loss: 167.3948 - root_mean_squared_error: 12.9380 - val_loss: 171.4587 - val_root_mean_squared_error: 13.0934\n",
      "Epoch 20/20\n",
      "\u001b[1m354/354\u001b[0m \u001b[32m━━━━━━━━━━━━━━━━━━━━\u001b[0m\u001b[37m\u001b[0m \u001b[1m2s\u001b[0m 3ms/step - loss: 164.8391 - root_mean_squared_error: 12.8385 - val_loss: 171.1595 - val_root_mean_squared_error: 13.0823\n"
     ]
    }
   ],
   "source": [
    "history = model.fit(train_ds, epochs=20, validation_data=val_ds)\n"
   ]
  },
  {
   "cell_type": "code",
   "execution_count": 83,
   "id": "e157e95f7300590e",
   "metadata": {
    "ExecuteTime": {
     "end_time": "2024-02-29T08:07:48.500990Z",
     "start_time": "2024-02-29T08:07:48.253286Z"
    },
    "collapsed": false,
    "jupyter": {
     "outputs_hidden": false
    }
   },
   "outputs": [
    {
     "name": "stdout",
     "output_type": "stream",
     "text": [
      "\u001b[1m76/76\u001b[0m \u001b[32m━━━━━━━━━━━━━━━━━━━━\u001b[0m\u001b[37m\u001b[0m \u001b[1m0s\u001b[0m 3ms/step - loss: 165.3239 - root_mean_squared_error: 12.8575\n"
     ]
    },
    {
     "data": {
      "text/plain": [
       "[166.58900451660156, 12.90184211730957]"
      ]
     },
     "execution_count": 83,
     "metadata": {},
     "output_type": "execute_result"
    }
   ],
   "source": [
    "model.evaluate(test_ds)"
   ]
  },
  {
   "cell_type": "code",
   "execution_count": 84,
   "id": "411661ce889e33aa",
   "metadata": {
    "ExecuteTime": {
     "end_time": "2024-02-29T08:08:37.166361Z",
     "start_time": "2024-02-29T08:08:36.917634Z"
    },
    "collapsed": false,
    "jupyter": {
     "outputs_hidden": false
    }
   },
   "outputs": [
    {
     "data": {
      "text/plain": [
       "[<matplotlib.lines.Line2D at 0x7f7594d7ab90>]"
      ]
     },
     "execution_count": 84,
     "metadata": {},
     "output_type": "execute_result"
    },
    {
     "data": {
      "image/png": "[encoded data removed]",
      "text/plain": [
       "<Figure size 640x480 with 1 Axes>"
      ]
     },
     "metadata": {},
     "output_type": "display_data"
    }
   ],
   "source": [
    "plt.plot(history.history['loss'], label='Loss Training', color='red')\n",
    "plt.plot(history.history['val_loss'], label='Validation Loss', color='blue')\n",
    "plt.plot(history.history['root_mean_squared_error'], label='Training Accuracy')\n",
    "plt.plot(history.history['val_root_mean_squared_error'], label='Validation Accuracy', color='cyan')"
   ]
  },
  {
   "cell_type": "code",
   "execution_count": 85,
   "id": "2c39251a97481bab",
   "metadata": {
    "ExecuteTime": {
     "end_time": "2024-02-29T08:08:50.476312Z",
     "start_time": "2024-02-29T08:08:50.274797Z"
    },
    "collapsed": false,
    "jupyter": {
     "outputs_hidden": false
    }
   },
   "outputs": [
    {
     "data": {
      "text/plain": [
       "[<matplotlib.lines.Line2D at 0x7f7596359ad0>]"
      ]
     },
     "execution_count": 85,
     "metadata": {},
     "output_type": "execute_result"
    },
    {
     "data": {
      "image/png": "[encoded data removed]",
      "text/plain": [
       "<Figure size 640x480 with 1 Axes>"
      ]
     },
     "metadata": {},
     "output_type": "display_data"
    }
   ],
   "source": [
    "plt.plot(history.history['root_mean_squared_error'], label='Training Accuracy', color='green')\n",
    "plt.plot(history.history['val_root_mean_squared_error'], label='Validation Accuracy', color='cyan')"
   ]
  },
  {
   "cell_type": "markdown",
   "id": "cd20d11f8c6cbbb4",
   "metadata": {
    "collapsed": false,
    "jupyter": {
     "outputs_hidden": false
    }
   },
   "source": [
    "### Ensemble Models"
   ]
  },
  {
   "cell_type": "code",
   "execution_count": 26,
   "id": "4d3a98b8d564b00d",
   "metadata": {
    "ExecuteTime": {
     "end_time": "2024-03-03T09:04:41.433055Z",
     "start_time": "2024-03-03T09:04:41.358755Z"
    },
    "collapsed": false,
    "jupyter": {
     "outputs_hidden": false
    }
   },
   "outputs": [],
   "source": [
    "\n",
    "all_features = tf.keras.layers.concatenate(encoded_features)\n",
    "x1 = tf.keras.layers.Dense(128, activation=\"swish\", kernel_initializer='he_normal')(all_features)\n",
    "x1 = tf.keras.layers.Dense(64, activation=\"swish\", kernel_initializer='he_normal')(x1)\n",
    "x1 = tf.keras.layers.Dense(32, activation=\"swish\", kernel_initializer='he_normal')(x1)\n",
    "\n",
    "\n",
    "x2 = tf.keras.layers.Dense(128, activation=\"swish\", kernel_initializer='he_normal')(all_features)\n",
    "x2 = tf.keras.layers.Dense(64, activation=\"swish\", kernel_initializer='he_normal')(x2)\n",
    "x2 = tf.keras.layers.Dense(32, activation=\"swish\", kernel_initializer='he_normal')(x2)\n",
    "\n",
    "\n",
    "x3 = tf.keras.layers.Dense(128, activation=\"swish\", kernel_initializer='he_normal')(all_features)\n",
    "x3 = tf.keras.layers.Dense(64, activation=\"swish\", kernel_initializer='he_normal')(x3)\n",
    "x3 = tf.keras.layers.Dense(32, activation=\"swish\", kernel_initializer='he_normal')(x3)\n",
    "\n",
    "concatenated = tf.keras.layers.concatenate([x1, x2, x3])\n",
    "\n",
    "output = tf.keras.layers.Dense(1)(concatenated)\n",
    "\n",
    "model = tf.keras.Model(all_inputs, output)\n",
    "model.compile(optimizer='adam',\n",
    "              loss=tf.keras.losses.MeanSquaredError(),\n",
    "              metrics=[keras.metrics.RootMeanSquaredError()])"
   ]
  },
  {
   "cell_type": "code",
   "execution_count": 27,
   "id": "ed256f1817d3a4be",
   "metadata": {
    "ExecuteTime": {
     "end_time": "2024-03-03T09:06:31.184518Z",
     "start_time": "2024-03-03T09:05:49.295783Z"
    },
    "collapsed": false,
    "jupyter": {
     "outputs_hidden": false
    }
   },
   "outputs": [
    {
     "name": "stdout",
     "output_type": "stream",
     "text": [
      "Epoch 1/20\n",
      "\u001b[1m354/354\u001b[0m \u001b[32m━━━━━━━━━━━━━━━━━━━━\u001b[0m\u001b[37m\u001b[0m \u001b[1m6s\u001b[0m 5ms/step - loss: 449.3632 - root_mean_squared_error: 20.7948 - val_loss: 198.9124 - val_root_mean_squared_error: 14.1039\n",
      "Epoch 2/20\n",
      "\u001b[1m354/354\u001b[0m \u001b[32m━━━━━━━━━━━━━━━━━━━━\u001b[0m\u001b[37m\u001b[0m \u001b[1m2s\u001b[0m 4ms/step - loss: 195.4173 - root_mean_squared_error: 13.9789 - val_loss: 185.4501 - val_root_mean_squared_error: 13.6192\n",
      "Epoch 3/20\n",
      "\u001b[1m354/354\u001b[0m \u001b[32m━━━━━━━━━━━━━━━━━━━━\u001b[0m\u001b[37m\u001b[0m \u001b[1m2s\u001b[0m 4ms/step - loss: 185.0847 - root_mean_squared_error: 13.6043 - val_loss: 183.3478 - val_root_mean_squared_error: 13.5411\n",
      "Epoch 4/20\n",
      "\u001b[1m354/354\u001b[0m \u001b[32m━━━━━━━━━━━━━━━━━━━━\u001b[0m\u001b[37m\u001b[0m \u001b[1m2s\u001b[0m 4ms/step - loss: 181.0010 - root_mean_squared_error: 13.4531 - val_loss: 177.9129 - val_root_mean_squared_error: 13.3406\n",
      "Epoch 5/20\n",
      "\u001b[1m354/354\u001b[0m \u001b[32m━━━━━━━━━━━━━━━━━━━━\u001b[0m\u001b[37m\u001b[0m \u001b[1m2s\u001b[0m 4ms/step - loss: 177.5762 - root_mean_squared_error: 13.3256 - val_loss: 178.5920 - val_root_mean_squared_error: 13.3649\n",
      "Epoch 6/20\n",
      "\u001b[1m354/354\u001b[0m \u001b[32m━━━━━━━━━━━━━━━━━━━━\u001b[0m\u001b[37m\u001b[0m \u001b[1m2s\u001b[0m 4ms/step - loss: 175.7988 - root_mean_squared_error: 13.2586 - val_loss: 175.7400 - val_root_mean_squared_error: 13.2571\n",
      "Epoch 7/20\n",
      "\u001b[1m354/354\u001b[0m \u001b[32m━━━━━━━━━━━━━━━━━━━━\u001b[0m\u001b[37m\u001b[0m \u001b[1m2s\u001b[0m 4ms/step - loss: 172.3317 - root_mean_squared_error: 13.1273 - val_loss: 174.1188 - val_root_mean_squared_error: 13.1966\n",
      "Epoch 8/20\n",
      "\u001b[1m354/354\u001b[0m \u001b[32m━━━━━━━━━━━━━━━━━━━━\u001b[0m\u001b[37m\u001b[0m \u001b[1m2s\u001b[0m 4ms/step - loss: 169.9518 - root_mean_squared_error: 13.0363 - val_loss: 172.0272 - val_root_mean_squared_error: 13.1161\n",
      "Epoch 9/20\n",
      "\u001b[1m354/354\u001b[0m \u001b[32m━━━━━━━━━━━━━━━━━━━━\u001b[0m\u001b[37m\u001b[0m \u001b[1m2s\u001b[0m 4ms/step - loss: 170.2848 - root_mean_squared_error: 13.0487 - val_loss: 173.1555 - val_root_mean_squared_error: 13.1593\n",
      "Epoch 10/20\n",
      "\u001b[1m354/354\u001b[0m \u001b[32m━━━━━━━━━━━━━━━━━━━━\u001b[0m\u001b[37m\u001b[0m \u001b[1m2s\u001b[0m 4ms/step - loss: 170.7397 - root_mean_squared_error: 13.0665 - val_loss: 170.1189 - val_root_mean_squared_error: 13.0435\n",
      "Epoch 11/20\n",
      "\u001b[1m354/354\u001b[0m \u001b[32m━━━━━━━━━━━━━━━━━━━━\u001b[0m\u001b[37m\u001b[0m \u001b[1m2s\u001b[0m 4ms/step - loss: 169.2156 - root_mean_squared_error: 13.0072 - val_loss: 172.1380 - val_root_mean_squared_error: 13.1203\n",
      "Epoch 12/20\n",
      "\u001b[1m354/354\u001b[0m \u001b[32m━━━━━━━━━━━━━━━━━━━━\u001b[0m\u001b[37m\u001b[0m \u001b[1m2s\u001b[0m 4ms/step - loss: 167.7182 - root_mean_squared_error: 12.9505 - val_loss: 168.7987 - val_root_mean_squared_error: 12.9935\n",
      "Epoch 13/20\n",
      "\u001b[1m354/354\u001b[0m \u001b[32m━━━━━━━━━━━━━━━━━━━━\u001b[0m\u001b[37m\u001b[0m \u001b[1m2s\u001b[0m 4ms/step - loss: 165.0092 - root_mean_squared_error: 12.8450 - val_loss: 168.5071 - val_root_mean_squared_error: 12.9832\n",
      "Epoch 14/20\n",
      "\u001b[1m354/354\u001b[0m \u001b[32m━━━━━━━━━━━━━━━━━━━━\u001b[0m\u001b[37m\u001b[0m \u001b[1m2s\u001b[0m 4ms/step - loss: 162.2762 - root_mean_squared_error: 12.7381 - val_loss: 169.6219 - val_root_mean_squared_error: 13.0251\n",
      "Epoch 15/20\n",
      "\u001b[1m354/354\u001b[0m \u001b[32m━━━━━━━━━━━━━━━━━━━━\u001b[0m\u001b[37m\u001b[0m \u001b[1m2s\u001b[0m 4ms/step - loss: 164.3065 - root_mean_squared_error: 12.8181 - val_loss: 170.8952 - val_root_mean_squared_error: 13.0726\n",
      "Epoch 16/20\n",
      "\u001b[1m354/354\u001b[0m \u001b[32m━━━━━━━━━━━━━━━━━━━━\u001b[0m\u001b[37m\u001b[0m \u001b[1m2s\u001b[0m 4ms/step - loss: 164.2150 - root_mean_squared_error: 12.8145 - val_loss: 168.0629 - val_root_mean_squared_error: 12.9646\n",
      "Epoch 17/20\n",
      "\u001b[1m354/354\u001b[0m \u001b[32m━━━━━━━━━━━━━━━━━━━━\u001b[0m\u001b[37m\u001b[0m \u001b[1m2s\u001b[0m 4ms/step - loss: 162.3760 - root_mean_squared_error: 12.7425 - val_loss: 171.1910 - val_root_mean_squared_error: 13.0858\n",
      "Epoch 18/20\n",
      "\u001b[1m354/354\u001b[0m \u001b[32m━━━━━━━━━━━━━━━━━━━━\u001b[0m\u001b[37m\u001b[0m \u001b[1m2s\u001b[0m 4ms/step - loss: 162.1348 - root_mean_squared_error: 12.7331 - val_loss: 168.2474 - val_root_mean_squared_error: 12.9731\n",
      "Epoch 19/20\n",
      "\u001b[1m354/354\u001b[0m \u001b[32m━━━━━━━━━━━━━━━━━━━━\u001b[0m\u001b[37m\u001b[0m \u001b[1m2s\u001b[0m 3ms/step - loss: 161.0041 - root_mean_squared_error: 12.6885 - val_loss: 167.4253 - val_root_mean_squared_error: 12.9416\n",
      "Epoch 20/20\n",
      "\u001b[1m354/354\u001b[0m \u001b[32m━━━━━━━━━━━━━━━━━━━━\u001b[0m\u001b[37m\u001b[0m \u001b[1m2s\u001b[0m 4ms/step - loss: 160.4281 - root_mean_squared_error: 12.6658 - val_loss: 171.3769 - val_root_mean_squared_error: 13.0921\n"
     ]
    }
   ],
   "source": [
    "history = model.fit(train_ds, epochs=20, validation_data=val_ds)\n"
   ]
  },
  {
   "cell_type": "code",
   "execution_count": 28,
   "id": "272f27cb48c9cbba",
   "metadata": {
    "ExecuteTime": {
     "end_time": "2024-03-03T09:06:37.111449Z",
     "start_time": "2024-03-03T09:06:36.830118Z"
    },
    "collapsed": false,
    "jupyter": {
     "outputs_hidden": false
    }
   },
   "outputs": [
    {
     "name": "stdout",
     "output_type": "stream",
     "text": [
      "\u001b[1m76/76\u001b[0m \u001b[32m━━━━━━━━━━━━━━━━━━━━\u001b[0m\u001b[37m\u001b[0m \u001b[1m0s\u001b[0m 3ms/step - loss: 174.1506 - root_mean_squared_error: 13.1944\n"
     ]
    },
    {
     "data": {
      "text/plain": [
       "[169.3726806640625, 13.017106056213379]"
      ]
     },
     "execution_count": 28,
     "metadata": {},
     "output_type": "execute_result"
    }
   ],
   "source": [
    "model.evaluate(test_ds)"
   ]
  },
  {
   "cell_type": "code",
   "execution_count": 29,
   "id": "f64103b2d5dd8460",
   "metadata": {
    "ExecuteTime": {
     "end_time": "2024-03-03T09:06:48.915950Z",
     "start_time": "2024-03-03T09:06:48.637230Z"
    },
    "collapsed": false,
    "jupyter": {
     "outputs_hidden": false
    }
   },
   "outputs": [
    {
     "data": {
      "text/plain": [
       "[<matplotlib.lines.Line2D at 0x7fa5c0896c50>]"
      ]
     },
     "execution_count": 29,
     "metadata": {},
     "output_type": "execute_result"
    },
    {
     "data": {
      "image/png": "[encoded data removed]",
      "text/plain": [
       "<Figure size 640x480 with 1 Axes>"
      ]
     },
     "metadata": {},
     "output_type": "display_data"
    }
   ],
   "source": [
    "plt.plot(history.history['loss'], label='Loss Training', color='red')\n",
    "plt.plot(history.history['val_loss'], label='Validation Loss', color='blue')\n",
    "plt.plot(history.history['root_mean_squared_error'], label='Training Accuracy')\n",
    "plt.plot(history.history['val_root_mean_squared_error'], label='Validation Accuracy', color='cyan')"
   ]
  },
  {
   "cell_type": "code",
   "execution_count": 30,
   "id": "834c85df622e41ca",
   "metadata": {
    "ExecuteTime": {
     "end_time": "2024-03-03T09:06:53.727062Z",
     "start_time": "2024-03-03T09:06:53.538020Z"
    },
    "collapsed": false,
    "jupyter": {
     "outputs_hidden": false
    }
   },
   "outputs": [
    {
     "data": {
      "text/plain": [
       "[<matplotlib.lines.Line2D at 0x7fa5c06f1e50>]"
      ]
     },
     "execution_count": 30,
     "metadata": {},
     "output_type": "execute_result"
    },
    {
     "data": {
      "image/png": "[encoded data removed]",
      "text/plain": [
       "<Figure size 640x480 with 1 Axes>"
      ]
     },
     "metadata": {},
     "output_type": "display_data"
    }
   ],
   "source": [
    "plt.plot(history.history['root_mean_squared_error'], label='Training Accuracy', color='green')\n",
    "plt.plot(history.history['val_root_mean_squared_error'], label='Validation Accuracy', color='cyan')"
   ]
  },
  {
   "cell_type": "markdown",
   "id": "809b001ff38ff930",
   "metadata": {
    "collapsed": false,
    "jupyter": {
     "outputs_hidden": false
    }
   },
   "source": [
    "### Ensemble - Fined Tuned"
   ]
  },
  {
   "cell_type": "code",
   "execution_count": 35,
   "id": "19bd14ca0c6a691c",
   "metadata": {
    "ExecuteTime": {
     "end_time": "2024-03-03T09:38:28.471271Z",
     "start_time": "2024-03-03T09:37:38.741512Z"
    },
    "collapsed": false,
    "jupyter": {
     "outputs_hidden": false
    }
   },
   "outputs": [
    {
     "name": "stdout",
     "output_type": "stream",
     "text": [
      "Epoch 1/20\n",
      "\u001b[1m354/354\u001b[0m \u001b[32m━━━━━━━━━━━━━━━━━━━━\u001b[0m\u001b[37m\u001b[0m \u001b[1m7s\u001b[0m 5ms/step - loss: 397.7661 - root_mean_squared_error: 19.5225 - val_loss: 188.5433 - val_root_mean_squared_error: 13.7332\n",
      "Epoch 2/20\n",
      "\u001b[1m354/354\u001b[0m \u001b[32m━━━━━━━━━━━━━━━━━━━━\u001b[0m\u001b[37m\u001b[0m \u001b[1m2s\u001b[0m 5ms/step - loss: 186.4479 - root_mean_squared_error: 13.6545 - val_loss: 181.6758 - val_root_mean_squared_error: 13.4801\n",
      "Epoch 3/20\n",
      "\u001b[1m354/354\u001b[0m \u001b[32m━━━━━━━━━━━━━━━━━━━━\u001b[0m\u001b[37m\u001b[0m \u001b[1m2s\u001b[0m 5ms/step - loss: 181.4957 - root_mean_squared_error: 13.4712 - val_loss: 175.5727 - val_root_mean_squared_error: 13.2519\n",
      "Epoch 4/20\n",
      "\u001b[1m354/354\u001b[0m \u001b[32m━━━━━━━━━━━━━━━━━━━━\u001b[0m\u001b[37m\u001b[0m \u001b[1m2s\u001b[0m 5ms/step - loss: 173.6109 - root_mean_squared_error: 13.1757 - val_loss: 174.3062 - val_root_mean_squared_error: 13.2034\n",
      "Epoch 5/20\n",
      "\u001b[1m354/354\u001b[0m \u001b[32m━━━━━━━━━━━━━━━━━━━━\u001b[0m\u001b[37m\u001b[0m \u001b[1m2s\u001b[0m 5ms/step - loss: 170.6103 - root_mean_squared_error: 13.0611 - val_loss: 171.5023 - val_root_mean_squared_error: 13.0979\n",
      "Epoch 6/20\n",
      "\u001b[1m354/354\u001b[0m \u001b[32m━━━━━━━━━━━━━━━━━━━━\u001b[0m\u001b[37m\u001b[0m \u001b[1m2s\u001b[0m 4ms/step - loss: 169.3980 - root_mean_squared_error: 13.0151 - val_loss: 171.7948 - val_root_mean_squared_error: 13.1075\n",
      "Epoch 7/20\n",
      "\u001b[1m354/354\u001b[0m \u001b[32m━━━━━━━━━━━━━━━━━━━━\u001b[0m\u001b[37m\u001b[0m \u001b[1m2s\u001b[0m 5ms/step - loss: 171.3288 - root_mean_squared_error: 13.0889 - val_loss: 172.7217 - val_root_mean_squared_error: 13.1431\n",
      "Epoch 8/20\n",
      "\u001b[1m354/354\u001b[0m \u001b[32m━━━━━━━━━━━━━━━━━━━━\u001b[0m\u001b[37m\u001b[0m \u001b[1m2s\u001b[0m 4ms/step - loss: 166.9661 - root_mean_squared_error: 12.9213 - val_loss: 168.7385 - val_root_mean_squared_error: 12.9902\n",
      "Epoch 9/20\n",
      "\u001b[1m354/354\u001b[0m \u001b[32m━━━━━━━━━━━━━━━━━━━━\u001b[0m\u001b[37m\u001b[0m \u001b[1m2s\u001b[0m 5ms/step - loss: 166.0447 - root_mean_squared_error: 12.8856 - val_loss: 167.7042 - val_root_mean_squared_error: 12.9509\n",
      "Epoch 10/20\n",
      "\u001b[1m354/354\u001b[0m \u001b[32m━━━━━━━━━━━━━━━━━━━━\u001b[0m\u001b[37m\u001b[0m \u001b[1m2s\u001b[0m 4ms/step - loss: 165.4099 - root_mean_squared_error: 12.8610 - val_loss: 169.0723 - val_root_mean_squared_error: 13.0032\n",
      "Epoch 11/20\n",
      "\u001b[1m354/354\u001b[0m \u001b[32m━━━━━━━━━━━━━━━━━━━━\u001b[0m\u001b[37m\u001b[0m \u001b[1m2s\u001b[0m 5ms/step - loss: 164.0367 - root_mean_squared_error: 12.8071 - val_loss: 166.9649 - val_root_mean_squared_error: 12.9224\n",
      "Epoch 12/20\n",
      "\u001b[1m354/354\u001b[0m \u001b[32m━━━━━━━━━━━━━━━━━━━━\u001b[0m\u001b[37m\u001b[0m \u001b[1m2s\u001b[0m 4ms/step - loss: 162.0889 - root_mean_squared_error: 12.7301 - val_loss: 169.5226 - val_root_mean_squared_error: 13.0207\n",
      "Epoch 13/20\n",
      "\u001b[1m354/354\u001b[0m \u001b[32m━━━━━━━━━━━━━━━━━━━━\u001b[0m\u001b[37m\u001b[0m \u001b[1m2s\u001b[0m 5ms/step - loss: 160.0357 - root_mean_squared_error: 12.6500 - val_loss: 167.8550 - val_root_mean_squared_error: 12.9563\n",
      "Epoch 14/20\n",
      "\u001b[1m354/354\u001b[0m \u001b[32m━━━━━━━━━━━━━━━━━━━━\u001b[0m\u001b[37m\u001b[0m \u001b[1m2s\u001b[0m 5ms/step - loss: 159.7460 - root_mean_squared_error: 12.6389 - val_loss: 167.3348 - val_root_mean_squared_error: 12.9357\n",
      "Epoch 15/20\n",
      "\u001b[1m354/354\u001b[0m \u001b[32m━━━━━━━━━━━━━━━━━━━━\u001b[0m\u001b[37m\u001b[0m \u001b[1m2s\u001b[0m 4ms/step - loss: 159.9241 - root_mean_squared_error: 12.6460 - val_loss: 167.2703 - val_root_mean_squared_error: 12.9336\n",
      "Epoch 16/20\n",
      "\u001b[1m354/354\u001b[0m \u001b[32m━━━━━━━━━━━━━━━━━━━━\u001b[0m\u001b[37m\u001b[0m \u001b[1m2s\u001b[0m 5ms/step - loss: 156.6136 - root_mean_squared_error: 12.5142 - val_loss: 166.2121 - val_root_mean_squared_error: 12.8918\n",
      "Epoch 17/20\n",
      "\u001b[1m354/354\u001b[0m \u001b[32m━━━━━━━━━━━━━━━━━━━━\u001b[0m\u001b[37m\u001b[0m \u001b[1m2s\u001b[0m 5ms/step - loss: 154.5341 - root_mean_squared_error: 12.4307 - val_loss: 167.5035 - val_root_mean_squared_error: 12.9436\n",
      "Epoch 18/20\n",
      "\u001b[1m354/354\u001b[0m \u001b[32m━━━━━━━━━━━━━━━━━━━━\u001b[0m\u001b[37m\u001b[0m \u001b[1m2s\u001b[0m 5ms/step - loss: 154.6850 - root_mean_squared_error: 12.4370 - val_loss: 166.2721 - val_root_mean_squared_error: 12.8944\n",
      "Epoch 19/20\n",
      "\u001b[1m354/354\u001b[0m \u001b[32m━━━━━━━━━━━━━━━━━━━━\u001b[0m\u001b[37m\u001b[0m \u001b[1m2s\u001b[0m 5ms/step - loss: 154.1503 - root_mean_squared_error: 12.4157 - val_loss: 168.2675 - val_root_mean_squared_error: 12.9725\n",
      "Epoch 20/20\n",
      "\u001b[1m354/354\u001b[0m \u001b[32m━━━━━━━━━━━━━━━━━━━━\u001b[0m\u001b[37m\u001b[0m \u001b[1m2s\u001b[0m 4ms/step - loss: 151.1566 - root_mean_squared_error: 12.2944 - val_loss: 165.0865 - val_root_mean_squared_error: 12.8487\n",
      "\u001b[1m76/76\u001b[0m \u001b[32m━━━━━━━━━━━━━━━━━━━━\u001b[0m\u001b[37m\u001b[0m \u001b[1m0s\u001b[0m 3ms/step - loss: 167.9723 - root_mean_squared_error: 12.9592\n"
     ]
    },
    {
     "data": {
      "text/plain": [
       "[165.11517333984375, 12.851689338684082]"
      ]
     },
     "execution_count": 35,
     "metadata": {},
     "output_type": "execute_result"
    }
   ],
   "source": [
    "\n",
    "all_features = tf.keras.layers.concatenate(encoded_features)\n",
    "x1 = tf.keras.layers.Dense(128, activation=\"swish\", kernel_initializer='he_normal')(all_features)\n",
    "x1 = tf.keras.layers.Dense(64, activation=\"swish\", kernel_initializer='he_normal')(x1)\n",
    "x1 = tf.keras.layers.Dense(32, activation=\"swish\", kernel_initializer='he_normal')(x1)\n",
    "\n",
    "x2 = tf.keras.layers.Dense(128, activation=\"swish\", kernel_initializer='he_normal')(all_features)\n",
    "x2 = tf.keras.layers.Dense(64, activation=\"swish\", kernel_initializer='he_normal')(x2)\n",
    "x2 = tf.keras.layers.Dense(32, activation=\"swish\", kernel_initializer='he_normal')(x2)\n",
    "\n",
    "x3 = tf.keras.layers.Dense(128, activation=\"swish\", kernel_initializer='he_normal')(all_features)\n",
    "x3 = tf.keras.layers.Dense(64, activation=\"swish\", kernel_initializer='he_normal')(x3)\n",
    "x3 = tf.keras.layers.Dense(32, activation=\"swish\", kernel_initializer='he_normal')(x3)\n",
    "\n",
    "x4 = tf.keras.layers.Dense(128, activation=\"swish\", kernel_initializer='he_normal')(all_features)\n",
    "x4 = tf.keras.layers.Dense(64, activation=\"swish\", kernel_initializer='he_normal')(x4)\n",
    "x4 = tf.keras.layers.Dense(32, activation=\"swish\", kernel_initializer='he_normal')(x4)\n",
    "\n",
    "\n",
    "concatenated = tf.keras.layers.concatenate([x1, x2, x3, x4])\n",
    "\n",
    "meta_ensemble = tf.keras.layers.Dense(128, activation=\"swish\")(concatenated)\n",
    "\n",
    "output = tf.keras.layers.Dense(1)(meta_ensemble)\n",
    "\n",
    "model = tf.keras.Model(all_inputs, output)\n",
    "model.compile(optimizer='adam',\n",
    "              loss=tf.keras.losses.MeanSquaredError(),\n",
    "              metrics=[keras.metrics.RootMeanSquaredError()])\n",
    "history = model.fit(train_ds, epochs=20, validation_data=val_ds)\n",
    "model.evaluate(test_ds)\n"
   ]
  },
  {
   "cell_type": "markdown",
   "id": "f0e21ed988629780",
   "metadata": {
    "collapsed": false,
    "jupyter": {
     "outputs_hidden": false
    }
   },
   "source": [
    "\n",
    "### Ensemble - Weak Learners"
   ]
  },
  {
   "cell_type": "code",
   "execution_count": 39,
   "id": "e845b2bde1a56688",
   "metadata": {
    "ExecuteTime": {
     "end_time": "2024-03-03T10:21:15.116835Z",
     "start_time": "2024-03-03T10:20:29.122339Z"
    },
    "collapsed": false,
    "jupyter": {
     "outputs_hidden": false
    }
   },
   "outputs": [
    {
     "name": "stdout",
     "output_type": "stream",
     "text": [
      "Epoch 1/20\n",
      "\u001b[1m354/354\u001b[0m \u001b[32m━━━━━━━━━━━━━━━━━━━━\u001b[0m\u001b[37m\u001b[0m \u001b[1m8s\u001b[0m 5ms/step - loss: 490.2665 - root_mean_squared_error: 21.6851 - val_loss: 202.0354 - val_root_mean_squared_error: 14.2186\n",
      "Epoch 2/20\n",
      "\u001b[1m354/354\u001b[0m \u001b[32m━━━━━━━━━━━━━━━━━━━━\u001b[0m\u001b[37m\u001b[0m \u001b[1m2s\u001b[0m 4ms/step - loss: 197.8602 - root_mean_squared_error: 14.0660 - val_loss: 194.9472 - val_root_mean_squared_error: 13.9636\n",
      "Epoch 3/20\n",
      "\u001b[1m354/354\u001b[0m \u001b[32m━━━━━━━━━━━━━━━━━━━━\u001b[0m\u001b[37m\u001b[0m \u001b[1m2s\u001b[0m 4ms/step - loss: 186.4985 - root_mean_squared_error: 13.6560 - val_loss: 187.0511 - val_root_mean_squared_error: 13.6784\n",
      "Epoch 4/20\n",
      "\u001b[1m354/354\u001b[0m \u001b[32m━━━━━━━━━━━━━━━━━━━━\u001b[0m\u001b[37m\u001b[0m \u001b[1m2s\u001b[0m 4ms/step - loss: 182.8577 - root_mean_squared_error: 13.5224 - val_loss: 180.6460 - val_root_mean_squared_error: 13.4427\n",
      "Epoch 5/20\n",
      "\u001b[1m354/354\u001b[0m \u001b[32m━━━━━━━━━━━━━━━━━━━━\u001b[0m\u001b[37m\u001b[0m \u001b[1m2s\u001b[0m 4ms/step - loss: 182.1599 - root_mean_squared_error: 13.4959 - val_loss: 182.3163 - val_root_mean_squared_error: 13.5051\n",
      "Epoch 6/20\n",
      "\u001b[1m354/354\u001b[0m \u001b[32m━━━━━━━━━━━━━━━━━━━━\u001b[0m\u001b[37m\u001b[0m \u001b[1m2s\u001b[0m 4ms/step - loss: 182.2828 - root_mean_squared_error: 13.5001 - val_loss: 177.6413 - val_root_mean_squared_error: 13.3306\n",
      "Epoch 7/20\n",
      "\u001b[1m354/354\u001b[0m \u001b[32m━━━━━━━━━━━━━━━━━━━━\u001b[0m\u001b[37m\u001b[0m \u001b[1m2s\u001b[0m 4ms/step - loss: 174.0437 - root_mean_squared_error: 13.1912 - val_loss: 177.0376 - val_root_mean_squared_error: 13.3070\n",
      "Epoch 8/20\n",
      "\u001b[1m354/354\u001b[0m \u001b[32m━━━━━━━━━━━━━━━━━━━━\u001b[0m\u001b[37m\u001b[0m \u001b[1m2s\u001b[0m 4ms/step - loss: 175.8286 - root_mean_squared_error: 13.2598 - val_loss: 178.4068 - val_root_mean_squared_error: 13.3602\n",
      "Epoch 9/20\n",
      "\u001b[1m354/354\u001b[0m \u001b[32m━━━━━━━━━━━━━━━━━━━━\u001b[0m\u001b[37m\u001b[0m \u001b[1m2s\u001b[0m 4ms/step - loss: 177.7219 - root_mean_squared_error: 13.3302 - val_loss: 174.7083 - val_root_mean_squared_error: 13.2210\n",
      "Epoch 10/20\n",
      "\u001b[1m354/354\u001b[0m \u001b[32m━━━━━━━━━━━━━━━━━━━━\u001b[0m\u001b[37m\u001b[0m \u001b[1m2s\u001b[0m 4ms/step - loss: 171.1301 - root_mean_squared_error: 13.0808 - val_loss: 175.2861 - val_root_mean_squared_error: 13.2418\n",
      "Epoch 11/20\n",
      "\u001b[1m354/354\u001b[0m \u001b[32m━━━━━━━━━━━━━━━━━━━━\u001b[0m\u001b[37m\u001b[0m \u001b[1m2s\u001b[0m 4ms/step - loss: 172.9312 - root_mean_squared_error: 13.1502 - val_loss: 171.5544 - val_root_mean_squared_error: 13.1007\n",
      "Epoch 12/20\n",
      "\u001b[1m354/354\u001b[0m \u001b[32m━━━━━━━━━━━━━━━━━━━━\u001b[0m\u001b[37m\u001b[0m \u001b[1m2s\u001b[0m 4ms/step - loss: 172.2314 - root_mean_squared_error: 13.1234 - val_loss: 172.4843 - val_root_mean_squared_error: 13.1357\n",
      "Epoch 13/20\n",
      "\u001b[1m354/354\u001b[0m \u001b[32m━━━━━━━━━━━━━━━━━━━━\u001b[0m\u001b[37m\u001b[0m \u001b[1m2s\u001b[0m 4ms/step - loss: 170.7099 - root_mean_squared_error: 13.0651 - val_loss: 171.5677 - val_root_mean_squared_error: 13.1020\n",
      "Epoch 14/20\n",
      "\u001b[1m354/354\u001b[0m \u001b[32m━━━━━━━━━━━━━━━━━━━━\u001b[0m\u001b[37m\u001b[0m \u001b[1m2s\u001b[0m 4ms/step - loss: 171.5521 - root_mean_squared_error: 13.0966 - val_loss: 176.6979 - val_root_mean_squared_error: 13.2958\n",
      "Epoch 15/20\n",
      "\u001b[1m354/354\u001b[0m \u001b[32m━━━━━━━━━━━━━━━━━━━━\u001b[0m\u001b[37m\u001b[0m \u001b[1m2s\u001b[0m 4ms/step - loss: 170.1125 - root_mean_squared_error: 13.0422 - val_loss: 173.0398 - val_root_mean_squared_error: 13.1573\n",
      "Epoch 16/20\n",
      "\u001b[1m354/354\u001b[0m \u001b[32m━━━━━━━━━━━━━━━━━━━━\u001b[0m\u001b[37m\u001b[0m \u001b[1m2s\u001b[0m 4ms/step - loss: 169.3377 - root_mean_squared_error: 13.0127 - val_loss: 169.1087 - val_root_mean_squared_error: 13.0062\n",
      "Epoch 17/20\n",
      "\u001b[1m354/354\u001b[0m \u001b[32m━━━━━━━━━━━━━━━━━━━━\u001b[0m\u001b[37m\u001b[0m \u001b[1m2s\u001b[0m 4ms/step - loss: 169.1428 - root_mean_squared_error: 13.0052 - val_loss: 170.8973 - val_root_mean_squared_error: 13.0748\n",
      "Epoch 18/20\n",
      "\u001b[1m354/354\u001b[0m \u001b[32m━━━━━━━━━━━━━━━━━━━━\u001b[0m\u001b[37m\u001b[0m \u001b[1m2s\u001b[0m 4ms/step - loss: 168.2713 - root_mean_squared_error: 12.9716 - val_loss: 169.5289 - val_root_mean_squared_error: 13.0208\n",
      "Epoch 19/20\n",
      "\u001b[1m354/354\u001b[0m \u001b[32m━━━━━━━━━━━━━━━━━━━━\u001b[0m\u001b[37m\u001b[0m \u001b[1m2s\u001b[0m 4ms/step - loss: 166.7406 - root_mean_squared_error: 12.9121 - val_loss: 169.2934 - val_root_mean_squared_error: 13.0128\n",
      "Epoch 20/20\n",
      "\u001b[1m354/354\u001b[0m \u001b[32m━━━━━━━━━━━━━━━━━━━━\u001b[0m\u001b[37m\u001b[0m \u001b[1m2s\u001b[0m 4ms/step - loss: 167.2283 - root_mean_squared_error: 12.9315 - val_loss: 174.3039 - val_root_mean_squared_error: 13.2044\n",
      "\u001b[1m76/76\u001b[0m \u001b[32m━━━━━━━━━━━━━━━━━━━━\u001b[0m\u001b[37m\u001b[0m \u001b[1m0s\u001b[0m 2ms/step - loss: 173.2803 - root_mean_squared_error: 13.1628\n"
     ]
    },
    {
     "data": {
      "text/plain": [
       "[171.9942626953125, 13.117323875427246]"
      ]
     },
     "execution_count": 39,
     "metadata": {},
     "output_type": "execute_result"
    }
   ],
   "source": [
    "\n",
    "all_features = tf.keras.layers.concatenate(encoded_features)\n",
    "x1 = tf.keras.layers.Dense(32, activation=\"swish\", kernel_initializer='he_normal')(all_features)\n",
    "x1 = tf.keras.layers.Dense(32, activation=\"swish\", kernel_initializer='he_normal')(x1)\n",
    "output1 = tf.keras.layers.Dense(1, activation=\"swish\", kernel_initializer='he_normal')(x1)\n",
    "\n",
    "x2 = tf.keras.layers.Dense(32, activation=\"swish\", kernel_initializer='he_normal')(x1)\n",
    "x2 = tf.keras.layers.Dense(32, activation=\"swish\", kernel_initializer='he_normal')(x2)\n",
    "output2 = tf.keras.layers.Dense(1, activation=\"swish\", kernel_initializer='he_normal')(x2)\n",
    "\n",
    "x3 = tf.keras.layers.Dense(32, activation=\"swish\", kernel_initializer='he_normal')(x2)\n",
    "x3 = tf.keras.layers.Dense(32, activation=\"swish\", kernel_initializer='he_normal')(x3)\n",
    "output3 = tf.keras.layers.Dense(1, activation=\"swish\", kernel_initializer='he_normal')(x3)\n",
    "\n",
    "x4 = tf.keras.layers.Dense(32, activation=\"swish\", kernel_initializer='he_normal')(x3)\n",
    "x4 = tf.keras.layers.Dense(32, activation=\"swish\", kernel_initializer='he_normal')(x4)\n",
    "output4 = tf.keras.layers.Dense(1, activation=\"swish\", kernel_initializer='he_normal')(x4)\n",
    "\n",
    "x5 = tf.keras.layers.Dense(32, activation=\"swish\", kernel_initializer='he_normal')(x4)\n",
    "x5 = tf.keras.layers.Dense(32, activation=\"swish\", kernel_initializer='he_normal')(x5)\n",
    "output5 = tf.keras.layers.Dense(1, activation=\"swish\", kernel_initializer='he_normal')(x5)\n",
    "\n",
    "x6 = tf.keras.layers.Dense(32, activation=\"swish\", kernel_initializer='he_normal')(x5)\n",
    "x6 = tf.keras.layers.Dense(32, activation=\"swish\", kernel_initializer='he_normal')(x6)\n",
    "output6 = tf.keras.layers.Dense(1, activation=\"swish\", kernel_initializer='he_normal')(x6)\n",
    "\n",
    "x7 = tf.keras.layers.Dense(32, activation=\"swish\", kernel_initializer='he_normal')(x6)\n",
    "x7 = tf.keras.layers.Dense(32, activation=\"swish\", kernel_initializer='he_normal')(x7)\n",
    "output7 = tf.keras.layers.Dense(1, activation=\"swish\", kernel_initializer='he_normal')(x7)\n",
    "\n",
    "x8 = tf.keras.layers.Dense(32, activation=\"swish\", kernel_initializer='he_normal')(x7)\n",
    "x8 = tf.keras.layers.Dense(32, activation=\"swish\", kernel_initializer='he_normal')(x8)\n",
    "output8 = tf.keras.layers.Dense(1, activation=\"swish\", kernel_initializer='he_normal')(x8)\n",
    "\n",
    "\n",
    "\n",
    "model = tf.keras.Model(all_inputs, output8)\n",
    "model.compile(optimizer='adam',\n",
    "              loss=tf.keras.losses.MeanSquaredError(),\n",
    "              metrics=[keras.metrics.RootMeanSquaredError()])\n",
    "history = model.fit(train_ds, epochs=20, validation_data=val_ds)\n",
    "model.evaluate(test_ds)\n"
   ]
  },
  {
   "cell_type": "code",
   "execution_count": null,
   "id": "1cb337db5bc1e344",
   "metadata": {
    "collapsed": false,
    "jupyter": {
     "outputs_hidden": false
    }
   },
   "outputs": [],
   "source": []
  }
 ],
 "metadata": {
  "kernelspec": {
   "display_name": "Python 3 (ipykernel)",
   "language": "python",
   "name": "python3"
  },
  "language_info": {
   "codemirror_mode": {
    "name": "ipython",
    "version": 3
   },
   "file_extension": ".py",
   "mimetype": "text/x-python",
   "name": "python",
   "nbconvert_exporter": "python",
   "pygments_lexer": "ipython3",
   "version": "3.11.2"
  }
 },
 "nbformat": 4,
 "nbformat_minor": 5
}
